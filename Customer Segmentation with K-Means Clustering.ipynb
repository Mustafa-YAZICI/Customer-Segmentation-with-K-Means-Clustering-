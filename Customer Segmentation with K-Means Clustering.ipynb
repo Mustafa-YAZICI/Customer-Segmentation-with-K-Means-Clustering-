{
 "cells": [
  {
   "cell_type": "markdown",
   "id": "b97c2ff3",
   "metadata": {},
   "source": [
    "<a id='ldata'></a>\n",
    " <a id = \"11115\"></a><br>\n",
    "\n",
    "<div>  \n",
    "<h1><center style=\"background-color:#c0c0c0; color:black;\"><strong>Customer Segmentation with K-Means Clustering </strong></center></h1>\n",
    "</div>"
   ]
  },
  {
   "cell_type": "markdown",
   "id": "cdb4cc13",
   "metadata": {},
   "source": [
    "<img src=\"https://miro.medium.com/max/720/1*y-YeqS_WLKjuR2Il0RPNsQ.jpeg\" width=\"600\">"
   ]
  },
  {
   "cell_type": "markdown",
   "id": "7924d482",
   "metadata": {},
   "source": [
    "<a id='ldata'></a>\n",
    " <a id = \"11115\"></a><br>\n",
    "\n",
    "<div>  \n",
    "<h1><center style=\"background-color:#c0c0c0; color:black;\"><strong>TABLE OF CONTENTS </strong></center></h1>\n",
    "</div>\n",
    "\n",
    "1. [Description](#1)\n",
    "2. [Loading libraries and data](#5)\n",
    "3. [Understanding the data](#6)\n",
    "4. [Missing values](#7)\n",
    "5. [Categorical and Numerical Variable Analysis](#55)\n",
    "6. [Data Visualization](#9)\n",
    "7. [Data Manipulation - Preprocessing](#8)\n",
    "\n",
    "8. [K-Means Clustering](#88)\n",
    "    * [Task 1](#10)\n",
    "        *  [Determining the Optimum Number of Clusters](#811)\n",
    "        * [Elbow method](#812)\n",
    "        * [Final Cluster](#813)\n",
    "        * [Results](#814) \n",
    "        * [Results Visualization](#815)\n",
    "        \n",
    "  * [Task 2](#90)\n",
    "        * [Determining the Optimum Number of Clusters](#901)\n",
    "        * [Elbow method](#902)\n",
    "        * [Final Cluster](#903)\n",
    "        * [Results](#904) \n",
    "        * [Results Visualization](#905)     "
   ]
  },
  {
   "cell_type": "markdown",
   "id": "3cb27d23",
   "metadata": {},
   "source": [
    "<a id='ldata'></a>\n",
    " <a id = \"1\"></a><br>\n",
    "\n",
    "<div>  \n",
    "<h1><center style=\"background-color:#c0c0c0; color:black;\"><strong>1. DESCRIPTION </strong></center></h1>\n",
    "</div>\n",
    "<a id=\"Description\"></a>"
   ]
  },
  {
   "cell_type": "markdown",
   "id": "c547a868",
   "metadata": {},
   "source": [
    "<div style=\"border-radius:10px;\n",
    "            border : black solid;\n",
    "            background-color: #FFFFF;\n",
    "            font-size:110%;\n",
    "            text-align: left\">\n",
    "\n",
    "The dataset shows the customers which last purchases from the FLO store on Omnichannel(both online and offline shopping store)in 2020-2021. \n",
    "However, these customers have consist of infomation from their past shopping behavior.\n",
    " <a id = \"4\"></a><br>\n",
    "\n",
    "    \n",
    "Descriptions of Variables:\n",
    "\n",
    "* **master_id**: Unique Customer Number\n",
    "\n",
    "* **order_channel**: Which channel of the shopping platform is used (Android, IOS, Desktop, Mobile)\n",
    "\n",
    "* **last_order_channel**: The channel where the most recent purchase was made\n",
    "\n",
    "* **first_order_date**: Date of the customer's first purchase\n",
    "\n",
    "* **last_order_channel**: Customer's previous shopping history\n",
    "\n",
    "* **last_order_date_offline**: The date of the last purchase made by the customer on the offline platform\n",
    "\n",
    "* **order_num_total_ever_online**: Total number of purchases made by the customer on the online platform\n",
    "\n",
    "* **order_num_total_ever_offline**: Total number of purchases made by the customer on the offline platform\n",
    "\n",
    "* **customer_value_total_ever_offline**: Total fees paid for the customer's offline purchases\n",
    "\n",
    "* **customer_value_total_ever_online**: Total fees paid for the customer's online purchases\n",
    "\n",
    "* **interested_in_categories_12**:  List of categories the customer has shopped in the last 12 months\n",
    "  "
   ]
  },
  {
   "cell_type": "markdown",
   "id": "b7ad112e",
   "metadata": {},
   "source": [
    "<a id = \"5\" ></a>\n",
    "# <span style=\"font-family:serif; font-size:28px;\"> 2. Loading libraries and data</span>\n",
    "<a id=\"loading\"></a>"
   ]
  },
  {
   "cell_type": "code",
   "execution_count": 1,
   "id": "722926c2",
   "metadata": {},
   "outputs": [],
   "source": [
    "################################\n",
    "# Unsupervised Learning\n",
    "################################\n",
    "\n",
    "import numpy as np\n",
    "import pandas as pd\n",
    "import random\n",
    "import matplotlib.pyplot as plt\n",
    "from sklearn.cluster import KMeans\n",
    "from sklearn.preprocessing import MinMaxScaler\n",
    "from yellowbrick.cluster import KElbowVisualizer\n",
    "from scipy.cluster.hierarchy import linkage\n",
    "from scipy.cluster.hierarchy import dendrogram\n",
    "from sklearn.preprocessing import StandardScaler\n",
    "from sklearn.decomposition import PCA\n",
    "from sklearn.model_selection import cross_val_score, GridSearchCV\n",
    "from sklearn.preprocessing import LabelEncoder\n",
    "import missingno as msno\n",
    "import matplotlib.pyplot as plt\n",
    "import seaborn as sns\n",
    "import plotly.express as px\n",
    "import plotly.graph_objects as go\n",
    "import datetime as dt\n",
    "from datetime import timedelta, date\n",
    "\n",
    "import warnings\n",
    "warnings.filterwarnings('ignore')"
   ]
  },
  {
   "cell_type": "code",
   "execution_count": 2,
   "id": "fe83cc92",
   "metadata": {},
   "outputs": [],
   "source": [
    "df = pd.read_csv(\"flo_data_20k.csv\", index_col=0)"
   ]
  },
  {
   "cell_type": "code",
   "execution_count": 3,
   "id": "a650ef00",
   "metadata": {},
   "outputs": [
    {
     "data": {
      "text/plain": [
       "(19945, 11)"
      ]
     },
     "execution_count": 3,
     "metadata": {},
     "output_type": "execute_result"
    }
   ],
   "source": [
    "df.shape"
   ]
  },
  {
   "cell_type": "code",
   "execution_count": 4,
   "id": "0a213ee9",
   "metadata": {},
   "outputs": [
    {
     "data": {
      "text/html": [
       "<div>\n",
       "<style scoped>\n",
       "    .dataframe tbody tr th:only-of-type {\n",
       "        vertical-align: middle;\n",
       "    }\n",
       "\n",
       "    .dataframe tbody tr th {\n",
       "        vertical-align: top;\n",
       "    }\n",
       "\n",
       "    .dataframe thead th {\n",
       "        text-align: right;\n",
       "    }\n",
       "</style>\n",
       "<table border=\"1\" class=\"dataframe\">\n",
       "  <thead>\n",
       "    <tr style=\"text-align: right;\">\n",
       "      <th></th>\n",
       "      <th>order_channel</th>\n",
       "      <th>last_order_channel</th>\n",
       "      <th>first_order_date</th>\n",
       "      <th>last_order_date</th>\n",
       "      <th>last_order_date_online</th>\n",
       "      <th>last_order_date_offline</th>\n",
       "      <th>order_num_total_ever_online</th>\n",
       "      <th>order_num_total_ever_offline</th>\n",
       "      <th>customer_value_total_ever_offline</th>\n",
       "      <th>customer_value_total_ever_online</th>\n",
       "      <th>interested_in_categories_12</th>\n",
       "    </tr>\n",
       "    <tr>\n",
       "      <th>master_id</th>\n",
       "      <th></th>\n",
       "      <th></th>\n",
       "      <th></th>\n",
       "      <th></th>\n",
       "      <th></th>\n",
       "      <th></th>\n",
       "      <th></th>\n",
       "      <th></th>\n",
       "      <th></th>\n",
       "      <th></th>\n",
       "      <th></th>\n",
       "    </tr>\n",
       "  </thead>\n",
       "  <tbody>\n",
       "    <tr>\n",
       "      <th>cc294636-19f0-11eb-8d74-000d3a38a36f</th>\n",
       "      <td>Android App</td>\n",
       "      <td>Offline</td>\n",
       "      <td>2020-10-30</td>\n",
       "      <td>2021-02-26</td>\n",
       "      <td>2021-02-21</td>\n",
       "      <td>2021-02-26</td>\n",
       "      <td>4.0</td>\n",
       "      <td>1.0</td>\n",
       "      <td>139.99</td>\n",
       "      <td>799.38</td>\n",
       "      <td>[KADIN]</td>\n",
       "    </tr>\n",
       "    <tr>\n",
       "      <th>f431bd5a-ab7b-11e9-a2fc-000d3a38a36f</th>\n",
       "      <td>Android App</td>\n",
       "      <td>Mobile</td>\n",
       "      <td>2017-02-08</td>\n",
       "      <td>2021-02-16</td>\n",
       "      <td>2021-02-16</td>\n",
       "      <td>2020-01-10</td>\n",
       "      <td>19.0</td>\n",
       "      <td>2.0</td>\n",
       "      <td>159.97</td>\n",
       "      <td>1853.58</td>\n",
       "      <td>[ERKEK, COCUK, KADIN, AKTIFSPOR]</td>\n",
       "    </tr>\n",
       "    <tr>\n",
       "      <th>69b69676-1a40-11ea-941b-000d3a38a36f</th>\n",
       "      <td>Android App</td>\n",
       "      <td>Android App</td>\n",
       "      <td>2019-11-27</td>\n",
       "      <td>2020-11-27</td>\n",
       "      <td>2020-11-27</td>\n",
       "      <td>2019-12-01</td>\n",
       "      <td>3.0</td>\n",
       "      <td>2.0</td>\n",
       "      <td>189.97</td>\n",
       "      <td>395.35</td>\n",
       "      <td>[ERKEK, KADIN]</td>\n",
       "    </tr>\n",
       "  </tbody>\n",
       "</table>\n",
       "</div>"
      ],
      "text/plain": [
       "                                     order_channel last_order_channel  \\\n",
       "master_id                                                               \n",
       "cc294636-19f0-11eb-8d74-000d3a38a36f   Android App            Offline   \n",
       "f431bd5a-ab7b-11e9-a2fc-000d3a38a36f   Android App             Mobile   \n",
       "69b69676-1a40-11ea-941b-000d3a38a36f   Android App        Android App   \n",
       "\n",
       "                                     first_order_date last_order_date  \\\n",
       "master_id                                                               \n",
       "cc294636-19f0-11eb-8d74-000d3a38a36f       2020-10-30      2021-02-26   \n",
       "f431bd5a-ab7b-11e9-a2fc-000d3a38a36f       2017-02-08      2021-02-16   \n",
       "69b69676-1a40-11ea-941b-000d3a38a36f       2019-11-27      2020-11-27   \n",
       "\n",
       "                                     last_order_date_online  \\\n",
       "master_id                                                     \n",
       "cc294636-19f0-11eb-8d74-000d3a38a36f             2021-02-21   \n",
       "f431bd5a-ab7b-11e9-a2fc-000d3a38a36f             2021-02-16   \n",
       "69b69676-1a40-11ea-941b-000d3a38a36f             2020-11-27   \n",
       "\n",
       "                                     last_order_date_offline  \\\n",
       "master_id                                                      \n",
       "cc294636-19f0-11eb-8d74-000d3a38a36f              2021-02-26   \n",
       "f431bd5a-ab7b-11e9-a2fc-000d3a38a36f              2020-01-10   \n",
       "69b69676-1a40-11ea-941b-000d3a38a36f              2019-12-01   \n",
       "\n",
       "                                      order_num_total_ever_online  \\\n",
       "master_id                                                           \n",
       "cc294636-19f0-11eb-8d74-000d3a38a36f                          4.0   \n",
       "f431bd5a-ab7b-11e9-a2fc-000d3a38a36f                         19.0   \n",
       "69b69676-1a40-11ea-941b-000d3a38a36f                          3.0   \n",
       "\n",
       "                                      order_num_total_ever_offline  \\\n",
       "master_id                                                            \n",
       "cc294636-19f0-11eb-8d74-000d3a38a36f                           1.0   \n",
       "f431bd5a-ab7b-11e9-a2fc-000d3a38a36f                           2.0   \n",
       "69b69676-1a40-11ea-941b-000d3a38a36f                           2.0   \n",
       "\n",
       "                                      customer_value_total_ever_offline  \\\n",
       "master_id                                                                 \n",
       "cc294636-19f0-11eb-8d74-000d3a38a36f                             139.99   \n",
       "f431bd5a-ab7b-11e9-a2fc-000d3a38a36f                             159.97   \n",
       "69b69676-1a40-11ea-941b-000d3a38a36f                             189.97   \n",
       "\n",
       "                                      customer_value_total_ever_online  \\\n",
       "master_id                                                                \n",
       "cc294636-19f0-11eb-8d74-000d3a38a36f                            799.38   \n",
       "f431bd5a-ab7b-11e9-a2fc-000d3a38a36f                           1853.58   \n",
       "69b69676-1a40-11ea-941b-000d3a38a36f                            395.35   \n",
       "\n",
       "                                           interested_in_categories_12  \n",
       "master_id                                                               \n",
       "cc294636-19f0-11eb-8d74-000d3a38a36f                           [KADIN]  \n",
       "f431bd5a-ab7b-11e9-a2fc-000d3a38a36f  [ERKEK, COCUK, KADIN, AKTIFSPOR]  \n",
       "69b69676-1a40-11ea-941b-000d3a38a36f                    [ERKEK, KADIN]  "
      ]
     },
     "execution_count": 4,
     "metadata": {},
     "output_type": "execute_result"
    }
   ],
   "source": [
    "df.head(3)"
   ]
  },
  {
   "cell_type": "code",
   "execution_count": 5,
   "id": "559b9fba",
   "metadata": {},
   "outputs": [],
   "source": [
    "df[\"customer_value_total\"]=df[\"customer_value_total_ever_online\"]+df[\"customer_value_total_ever_offline\"]\n",
    "df[\"order_num_total\"]=df[\"order_num_total_ever_online\"]+df[\"order_num_total_ever_offline\"]\n",
    "df[[\"first_order_date\",\"last_order_date\",\"last_order_date_online\",\"last_order_date_offline\"]]=df[[\"first_order_date\",\"last_order_date\",\"last_order_date_online\",\"last_order_date_offline\"]].astype('datetime64[ns]')"
   ]
  },
  {
   "cell_type": "markdown",
   "id": "9cf74d8a",
   "metadata": {},
   "source": [
    "<a id = \"6\" ></a>\n",
    "# <span style=\"font-family:serif; font-size:28px;\"> 3. Understanding the data</span>\n",
    "<a id = \"Undertanding the data\" ></a>"
   ]
  },
  {
   "cell_type": "code",
   "execution_count": 6,
   "id": "c789bbe8",
   "metadata": {},
   "outputs": [
    {
     "data": {
      "text/html": [
       "<div>\n",
       "<style scoped>\n",
       "    .dataframe tbody tr th:only-of-type {\n",
       "        vertical-align: middle;\n",
       "    }\n",
       "\n",
       "    .dataframe tbody tr th {\n",
       "        vertical-align: top;\n",
       "    }\n",
       "\n",
       "    .dataframe thead th {\n",
       "        text-align: right;\n",
       "    }\n",
       "</style>\n",
       "<table border=\"1\" class=\"dataframe\">\n",
       "  <thead>\n",
       "    <tr style=\"text-align: right;\">\n",
       "      <th></th>\n",
       "      <th>count</th>\n",
       "      <th>mean</th>\n",
       "      <th>std</th>\n",
       "      <th>min</th>\n",
       "      <th>25%</th>\n",
       "      <th>50%</th>\n",
       "      <th>75%</th>\n",
       "      <th>max</th>\n",
       "    </tr>\n",
       "  </thead>\n",
       "  <tbody>\n",
       "    <tr>\n",
       "      <th>order_num_total_ever_online</th>\n",
       "      <td>19945.0</td>\n",
       "      <td>3.110855</td>\n",
       "      <td>4.225647</td>\n",
       "      <td>1.00</td>\n",
       "      <td>1.00</td>\n",
       "      <td>2.00</td>\n",
       "      <td>4.00</td>\n",
       "      <td>200.00</td>\n",
       "    </tr>\n",
       "    <tr>\n",
       "      <th>order_num_total_ever_offline</th>\n",
       "      <td>19945.0</td>\n",
       "      <td>1.913913</td>\n",
       "      <td>2.062880</td>\n",
       "      <td>1.00</td>\n",
       "      <td>1.00</td>\n",
       "      <td>1.00</td>\n",
       "      <td>2.00</td>\n",
       "      <td>109.00</td>\n",
       "    </tr>\n",
       "    <tr>\n",
       "      <th>customer_value_total_ever_offline</th>\n",
       "      <td>19945.0</td>\n",
       "      <td>253.922597</td>\n",
       "      <td>301.532853</td>\n",
       "      <td>10.00</td>\n",
       "      <td>99.99</td>\n",
       "      <td>179.98</td>\n",
       "      <td>319.97</td>\n",
       "      <td>18119.14</td>\n",
       "    </tr>\n",
       "    <tr>\n",
       "      <th>customer_value_total_ever_online</th>\n",
       "      <td>19945.0</td>\n",
       "      <td>497.321690</td>\n",
       "      <td>832.601886</td>\n",
       "      <td>12.99</td>\n",
       "      <td>149.98</td>\n",
       "      <td>286.46</td>\n",
       "      <td>578.44</td>\n",
       "      <td>45220.13</td>\n",
       "    </tr>\n",
       "    <tr>\n",
       "      <th>customer_value_total</th>\n",
       "      <td>19945.0</td>\n",
       "      <td>751.244287</td>\n",
       "      <td>895.402173</td>\n",
       "      <td>44.98</td>\n",
       "      <td>339.98</td>\n",
       "      <td>545.27</td>\n",
       "      <td>897.78</td>\n",
       "      <td>45905.10</td>\n",
       "    </tr>\n",
       "    <tr>\n",
       "      <th>order_num_total</th>\n",
       "      <td>19945.0</td>\n",
       "      <td>5.024768</td>\n",
       "      <td>4.742707</td>\n",
       "      <td>2.00</td>\n",
       "      <td>3.00</td>\n",
       "      <td>4.00</td>\n",
       "      <td>6.00</td>\n",
       "      <td>202.00</td>\n",
       "    </tr>\n",
       "  </tbody>\n",
       "</table>\n",
       "</div>"
      ],
      "text/plain": [
       "                                     count        mean         std    min  \\\n",
       "order_num_total_ever_online        19945.0    3.110855    4.225647   1.00   \n",
       "order_num_total_ever_offline       19945.0    1.913913    2.062880   1.00   \n",
       "customer_value_total_ever_offline  19945.0  253.922597  301.532853  10.00   \n",
       "customer_value_total_ever_online   19945.0  497.321690  832.601886  12.99   \n",
       "customer_value_total               19945.0  751.244287  895.402173  44.98   \n",
       "order_num_total                    19945.0    5.024768    4.742707   2.00   \n",
       "\n",
       "                                      25%     50%     75%       max  \n",
       "order_num_total_ever_online          1.00    2.00    4.00    200.00  \n",
       "order_num_total_ever_offline         1.00    1.00    2.00    109.00  \n",
       "customer_value_total_ever_offline   99.99  179.98  319.97  18119.14  \n",
       "customer_value_total_ever_online   149.98  286.46  578.44  45220.13  \n",
       "customer_value_total               339.98  545.27  897.78  45905.10  \n",
       "order_num_total                      3.00    4.00    6.00    202.00  "
      ]
     },
     "execution_count": 6,
     "metadata": {},
     "output_type": "execute_result"
    }
   ],
   "source": [
    "df.describe().T"
   ]
  },
  {
   "cell_type": "code",
   "execution_count": 7,
   "id": "4e2b108c",
   "metadata": {},
   "outputs": [
    {
     "data": {
      "text/html": [
       "<div>\n",
       "<style scoped>\n",
       "    .dataframe tbody tr th:only-of-type {\n",
       "        vertical-align: middle;\n",
       "    }\n",
       "\n",
       "    .dataframe tbody tr th {\n",
       "        vertical-align: top;\n",
       "    }\n",
       "\n",
       "    .dataframe thead th {\n",
       "        text-align: right;\n",
       "    }\n",
       "</style>\n",
       "<table border=\"1\" class=\"dataframe\">\n",
       "  <thead>\n",
       "    <tr style=\"text-align: right;\">\n",
       "      <th></th>\n",
       "      <th>customer_value_total_ever_online</th>\n",
       "      <th>customer_value_total_ever_offline</th>\n",
       "    </tr>\n",
       "    <tr>\n",
       "      <th>order_channel</th>\n",
       "      <th></th>\n",
       "      <th></th>\n",
       "    </tr>\n",
       "  </thead>\n",
       "  <tbody>\n",
       "    <tr>\n",
       "      <th>Android App</th>\n",
       "      <td>5448900.55</td>\n",
       "      <td>2370162.21</td>\n",
       "    </tr>\n",
       "    <tr>\n",
       "      <th>Mobile</th>\n",
       "      <td>1828428.97</td>\n",
       "      <td>1199754.19</td>\n",
       "    </tr>\n",
       "    <tr>\n",
       "      <th>Ios App</th>\n",
       "      <td>1772300.55</td>\n",
       "      <td>753699.38</td>\n",
       "    </tr>\n",
       "    <tr>\n",
       "      <th>Desktop</th>\n",
       "      <td>869451.04</td>\n",
       "      <td>740870.42</td>\n",
       "    </tr>\n",
       "  </tbody>\n",
       "</table>\n",
       "</div>"
      ],
      "text/plain": [
       "               customer_value_total_ever_online  \\\n",
       "order_channel                                     \n",
       "Android App                          5448900.55   \n",
       "Mobile                               1828428.97   \n",
       "Ios App                              1772300.55   \n",
       "Desktop                               869451.04   \n",
       "\n",
       "               customer_value_total_ever_offline  \n",
       "order_channel                                     \n",
       "Android App                           2370162.21  \n",
       "Mobile                                1199754.19  \n",
       "Ios App                                753699.38  \n",
       "Desktop                                740870.42  "
      ]
     },
     "execution_count": 7,
     "metadata": {},
     "output_type": "execute_result"
    }
   ],
   "source": [
    "df.groupby(\"order_channel\").agg({\"customer_value_total_ever_online\":\"sum\",\n",
    "                                \"customer_value_total_ever_offline\":\"sum\"}).sort_values(by=\"customer_value_total_ever_online\",ascending=False)  "
   ]
  },
  {
   "cell_type": "code",
   "execution_count": 8,
   "id": "0aec195e",
   "metadata": {},
   "outputs": [
    {
     "data": {
      "text/html": [
       "<div>\n",
       "<style scoped>\n",
       "    .dataframe tbody tr th:only-of-type {\n",
       "        vertical-align: middle;\n",
       "    }\n",
       "\n",
       "    .dataframe tbody tr th {\n",
       "        vertical-align: top;\n",
       "    }\n",
       "\n",
       "    .dataframe thead th {\n",
       "        text-align: right;\n",
       "    }\n",
       "</style>\n",
       "<table border=\"1\" class=\"dataframe\">\n",
       "  <thead>\n",
       "    <tr style=\"text-align: right;\">\n",
       "      <th></th>\n",
       "      <th>customer_value_total</th>\n",
       "    </tr>\n",
       "    <tr>\n",
       "      <th>interested_in_categories_12</th>\n",
       "      <th></th>\n",
       "    </tr>\n",
       "  </thead>\n",
       "  <tbody>\n",
       "    <tr>\n",
       "      <th>[AKTIFSPOR]</th>\n",
       "      <td>2373965.87</td>\n",
       "    </tr>\n",
       "    <tr>\n",
       "      <th>[KADIN]</th>\n",
       "      <td>1139066.02</td>\n",
       "    </tr>\n",
       "    <tr>\n",
       "      <th>[]</th>\n",
       "      <td>1136553.55</td>\n",
       "    </tr>\n",
       "    <tr>\n",
       "      <th>[KADIN, AKTIFSPOR]</th>\n",
       "      <td>1132049.56</td>\n",
       "    </tr>\n",
       "    <tr>\n",
       "      <th>[ERKEK]</th>\n",
       "      <td>1106934.44</td>\n",
       "    </tr>\n",
       "  </tbody>\n",
       "</table>\n",
       "</div>"
      ],
      "text/plain": [
       "                             customer_value_total\n",
       "interested_in_categories_12                      \n",
       "[AKTIFSPOR]                            2373965.87\n",
       "[KADIN]                                1139066.02\n",
       "[]                                     1136553.55\n",
       "[KADIN, AKTIFSPOR]                     1132049.56\n",
       "[ERKEK]                                1106934.44"
      ]
     },
     "execution_count": 8,
     "metadata": {},
     "output_type": "execute_result"
    }
   ],
   "source": [
    "df.groupby(\"interested_in_categories_12\").agg({\"customer_value_total\":\"sum\"}).sort_values(\n",
    "    by=\"customer_value_total\",ascending=False).head(5)  "
   ]
  },
  {
   "cell_type": "code",
   "execution_count": 9,
   "id": "b8ec6b23",
   "metadata": {},
   "outputs": [
    {
     "data": {
      "text/html": [
       "<div>\n",
       "<style scoped>\n",
       "    .dataframe tbody tr th:only-of-type {\n",
       "        vertical-align: middle;\n",
       "    }\n",
       "\n",
       "    .dataframe tbody tr th {\n",
       "        vertical-align: top;\n",
       "    }\n",
       "\n",
       "    .dataframe thead th {\n",
       "        text-align: right;\n",
       "    }\n",
       "</style>\n",
       "<table border=\"1\" class=\"dataframe\">\n",
       "  <thead>\n",
       "    <tr style=\"text-align: right;\">\n",
       "      <th></th>\n",
       "      <th>customer_value_total</th>\n",
       "    </tr>\n",
       "    <tr>\n",
       "      <th>master_id</th>\n",
       "      <th></th>\n",
       "    </tr>\n",
       "  </thead>\n",
       "  <tbody>\n",
       "    <tr>\n",
       "      <th>5d1c466a-9cfd-11e9-9897-000d3a38a36f</th>\n",
       "      <td>45905.10</td>\n",
       "    </tr>\n",
       "    <tr>\n",
       "      <th>d5ef8058-a5c6-11e9-a2fc-000d3a38a36f</th>\n",
       "      <td>36818.29</td>\n",
       "    </tr>\n",
       "    <tr>\n",
       "      <th>73fd19aa-9e37-11e9-9897-000d3a38a36f</th>\n",
       "      <td>33918.10</td>\n",
       "    </tr>\n",
       "    <tr>\n",
       "      <th>7137a5c0-7aad-11ea-8f20-000d3a38a36f</th>\n",
       "      <td>31227.41</td>\n",
       "    </tr>\n",
       "    <tr>\n",
       "      <th>47a642fe-975b-11eb-8c2a-000d3a38a36f</th>\n",
       "      <td>20706.34</td>\n",
       "    </tr>\n",
       "  </tbody>\n",
       "</table>\n",
       "</div>"
      ],
      "text/plain": [
       "                                      customer_value_total\n",
       "master_id                                                 \n",
       "5d1c466a-9cfd-11e9-9897-000d3a38a36f              45905.10\n",
       "d5ef8058-a5c6-11e9-a2fc-000d3a38a36f              36818.29\n",
       "73fd19aa-9e37-11e9-9897-000d3a38a36f              33918.10\n",
       "7137a5c0-7aad-11ea-8f20-000d3a38a36f              31227.41\n",
       "47a642fe-975b-11eb-8c2a-000d3a38a36f              20706.34"
      ]
     },
     "execution_count": 9,
     "metadata": {},
     "output_type": "execute_result"
    }
   ],
   "source": [
    "# #--------------------------------------------------------------------------------------------------------------------------#\n",
    "# Top 5 customers with the most profits.\n",
    "# #--------------------------------------------------------------------------------------------------------------------------#\n",
    "df.groupby(\"master_id\").agg({\"customer_value_total\":\"sum\"}).sort_values(\n",
    "    by=\"customer_value_total\",ascending=False).head(5) "
   ]
  },
  {
   "cell_type": "code",
   "execution_count": 10,
   "id": "1a00a38e",
   "metadata": {},
   "outputs": [
    {
     "data": {
      "text/html": [
       "<div>\n",
       "<style scoped>\n",
       "    .dataframe tbody tr th:only-of-type {\n",
       "        vertical-align: middle;\n",
       "    }\n",
       "\n",
       "    .dataframe tbody tr th {\n",
       "        vertical-align: top;\n",
       "    }\n",
       "\n",
       "    .dataframe thead th {\n",
       "        text-align: right;\n",
       "    }\n",
       "</style>\n",
       "<table border=\"1\" class=\"dataframe\">\n",
       "  <thead>\n",
       "    <tr style=\"text-align: right;\">\n",
       "      <th></th>\n",
       "      <th>order_num_total</th>\n",
       "    </tr>\n",
       "    <tr>\n",
       "      <th>master_id</th>\n",
       "      <th></th>\n",
       "    </tr>\n",
       "  </thead>\n",
       "  <tbody>\n",
       "    <tr>\n",
       "      <th>5d1c466a-9cfd-11e9-9897-000d3a38a36f</th>\n",
       "      <td>202.0</td>\n",
       "    </tr>\n",
       "    <tr>\n",
       "      <th>cba59206-9dd1-11e9-9897-000d3a38a36f</th>\n",
       "      <td>131.0</td>\n",
       "    </tr>\n",
       "    <tr>\n",
       "      <th>a57f4302-b1a8-11e9-89fa-000d3a38a36f</th>\n",
       "      <td>111.0</td>\n",
       "    </tr>\n",
       "    <tr>\n",
       "      <th>fdbe8304-a7ab-11e9-a2fc-000d3a38a36f</th>\n",
       "      <td>88.0</td>\n",
       "    </tr>\n",
       "    <tr>\n",
       "      <th>329968c6-a0e2-11e9-a2fc-000d3a38a36f</th>\n",
       "      <td>83.0</td>\n",
       "    </tr>\n",
       "  </tbody>\n",
       "</table>\n",
       "</div>"
      ],
      "text/plain": [
       "                                      order_num_total\n",
       "master_id                                            \n",
       "5d1c466a-9cfd-11e9-9897-000d3a38a36f            202.0\n",
       "cba59206-9dd1-11e9-9897-000d3a38a36f            131.0\n",
       "a57f4302-b1a8-11e9-89fa-000d3a38a36f            111.0\n",
       "fdbe8304-a7ab-11e9-a2fc-000d3a38a36f             88.0\n",
       "329968c6-a0e2-11e9-a2fc-000d3a38a36f             83.0"
      ]
     },
     "execution_count": 10,
     "metadata": {},
     "output_type": "execute_result"
    }
   ],
   "source": [
    "# #--------------------------------------------------------------------------------------------------------------------------#\n",
    "# Top 5 customers with the most orders.\n",
    "# #--------------------------------------------------------------------------------------------------------------------------#\n",
    "df.groupby(\"master_id\").agg({\"order_num_total\":\"sum\"}).sort_values(\n",
    "    by=\"order_num_total\",ascending=False).head(5) "
   ]
  },
  {
   "cell_type": "markdown",
   "id": "868748db",
   "metadata": {},
   "source": [
    "<a id = \"7\" ></a>\n",
    "# <span style=\"font-family:serif; font-size:28px;\"> 4. Missing values </span>\n",
    "<a id = \"missingvalue\" ></a>"
   ]
  },
  {
   "cell_type": "code",
   "execution_count": 11,
   "id": "8ce00a67",
   "metadata": {},
   "outputs": [
    {
     "data": {
      "text/plain": [
       "order_channel                        0\n",
       "last_order_channel                   0\n",
       "first_order_date                     0\n",
       "last_order_date                      0\n",
       "last_order_date_online               0\n",
       "last_order_date_offline              0\n",
       "order_num_total_ever_online          0\n",
       "order_num_total_ever_offline         0\n",
       "customer_value_total_ever_offline    0\n",
       "customer_value_total_ever_online     0\n",
       "interested_in_categories_12          0\n",
       "customer_value_total                 0\n",
       "order_num_total                      0\n",
       "dtype: int64"
      ]
     },
     "execution_count": 11,
     "metadata": {},
     "output_type": "execute_result"
    }
   ],
   "source": [
    "df.isnull().sum()"
   ]
  },
  {
   "cell_type": "markdown",
   "id": "652cb2d9",
   "metadata": {},
   "source": [
    "<a id = \"55\" ></a>\n",
    "# <span style=\"font-family:serif; font-size:28px;\"> 5. Categorical and Numerical Variable Analysis </span>\n",
    "<a id = \"datavisualization\" ></a>"
   ]
  },
  {
   "cell_type": "code",
   "execution_count": 12,
   "id": "501ba789",
   "metadata": {},
   "outputs": [
    {
     "data": {
      "text/html": [
       "<div>\n",
       "<style scoped>\n",
       "    .dataframe tbody tr th:only-of-type {\n",
       "        vertical-align: middle;\n",
       "    }\n",
       "\n",
       "    .dataframe tbody tr th {\n",
       "        vertical-align: top;\n",
       "    }\n",
       "\n",
       "    .dataframe thead th {\n",
       "        text-align: right;\n",
       "    }\n",
       "</style>\n",
       "<table border=\"1\" class=\"dataframe\">\n",
       "  <thead>\n",
       "    <tr style=\"text-align: right;\">\n",
       "      <th></th>\n",
       "      <th>cat_cols</th>\n",
       "      <th>num_cols</th>\n",
       "      <th>cat_but_car</th>\n",
       "      <th>num_but_cat</th>\n",
       "      <th>cat_cols_object</th>\n",
       "    </tr>\n",
       "  </thead>\n",
       "  <tbody>\n",
       "    <tr>\n",
       "      <th>0</th>\n",
       "      <td>3</td>\n",
       "      <td>10</td>\n",
       "      <td>0</td>\n",
       "      <td>0</td>\n",
       "      <td>3</td>\n",
       "    </tr>\n",
       "    <tr>\n",
       "      <th>1</th>\n",
       "      <td>- - -</td>\n",
       "      <td>- - -</td>\n",
       "      <td>- - -</td>\n",
       "      <td>- - -</td>\n",
       "      <td>- - -</td>\n",
       "    </tr>\n",
       "    <tr>\n",
       "      <th>2</th>\n",
       "      <td>order_channel</td>\n",
       "      <td>first_order_date</td>\n",
       "      <td>- - -</td>\n",
       "      <td>- - -</td>\n",
       "      <td>order_channel</td>\n",
       "    </tr>\n",
       "    <tr>\n",
       "      <th>3</th>\n",
       "      <td>last_order_channel</td>\n",
       "      <td>last_order_date</td>\n",
       "      <td>- - -</td>\n",
       "      <td>- - -</td>\n",
       "      <td>last_order_channel</td>\n",
       "    </tr>\n",
       "    <tr>\n",
       "      <th>4</th>\n",
       "      <td>interested_in_categories_12</td>\n",
       "      <td>last_order_date_online</td>\n",
       "      <td>- - -</td>\n",
       "      <td>- - -</td>\n",
       "      <td>interested_in_categories_12</td>\n",
       "    </tr>\n",
       "    <tr>\n",
       "      <th>5</th>\n",
       "      <td>- - -</td>\n",
       "      <td>last_order_date_offline</td>\n",
       "      <td>- - -</td>\n",
       "      <td>- - -</td>\n",
       "      <td>- - -</td>\n",
       "    </tr>\n",
       "    <tr>\n",
       "      <th>6</th>\n",
       "      <td>- - -</td>\n",
       "      <td>order_num_total_ever_online</td>\n",
       "      <td>- - -</td>\n",
       "      <td>- - -</td>\n",
       "      <td>- - -</td>\n",
       "    </tr>\n",
       "    <tr>\n",
       "      <th>7</th>\n",
       "      <td>- - -</td>\n",
       "      <td>order_num_total_ever_offline</td>\n",
       "      <td>- - -</td>\n",
       "      <td>- - -</td>\n",
       "      <td>- - -</td>\n",
       "    </tr>\n",
       "    <tr>\n",
       "      <th>8</th>\n",
       "      <td>- - -</td>\n",
       "      <td>customer_value_total_ever_offline</td>\n",
       "      <td>- - -</td>\n",
       "      <td>- - -</td>\n",
       "      <td>- - -</td>\n",
       "    </tr>\n",
       "    <tr>\n",
       "      <th>9</th>\n",
       "      <td>- - -</td>\n",
       "      <td>customer_value_total_ever_online</td>\n",
       "      <td>- - -</td>\n",
       "      <td>- - -</td>\n",
       "      <td>- - -</td>\n",
       "    </tr>\n",
       "    <tr>\n",
       "      <th>10</th>\n",
       "      <td>- - -</td>\n",
       "      <td>customer_value_total</td>\n",
       "      <td>- - -</td>\n",
       "      <td>- - -</td>\n",
       "      <td>- - -</td>\n",
       "    </tr>\n",
       "    <tr>\n",
       "      <th>11</th>\n",
       "      <td>- - -</td>\n",
       "      <td>order_num_total</td>\n",
       "      <td>- - -</td>\n",
       "      <td>- - -</td>\n",
       "      <td>- - -</td>\n",
       "    </tr>\n",
       "    <tr>\n",
       "      <th>12</th>\n",
       "      <td>- - -</td>\n",
       "      <td>- - -</td>\n",
       "      <td>- - -</td>\n",
       "      <td>- - -</td>\n",
       "      <td>- - -</td>\n",
       "    </tr>\n",
       "  </tbody>\n",
       "</table>\n",
       "</div>"
      ],
      "text/plain": [
       "                       cat_cols                           num_cols  \\\n",
       "0                             3                                 10   \n",
       "1                         - - -                              - - -   \n",
       "2                 order_channel                   first_order_date   \n",
       "3            last_order_channel                    last_order_date   \n",
       "4   interested_in_categories_12             last_order_date_online   \n",
       "5                         - - -            last_order_date_offline   \n",
       "6                         - - -        order_num_total_ever_online   \n",
       "7                         - - -       order_num_total_ever_offline   \n",
       "8                         - - -  customer_value_total_ever_offline   \n",
       "9                         - - -   customer_value_total_ever_online   \n",
       "10                        - - -               customer_value_total   \n",
       "11                        - - -                    order_num_total   \n",
       "12                        - - -                              - - -   \n",
       "\n",
       "   cat_but_car num_but_cat              cat_cols_object  \n",
       "0            0           0                            3  \n",
       "1        - - -       - - -                        - - -  \n",
       "2        - - -       - - -                order_channel  \n",
       "3        - - -       - - -           last_order_channel  \n",
       "4        - - -       - - -  interested_in_categories_12  \n",
       "5        - - -       - - -                        - - -  \n",
       "6        - - -       - - -                        - - -  \n",
       "7        - - -       - - -                        - - -  \n",
       "8        - - -       - - -                        - - -  \n",
       "9        - - -       - - -                        - - -  \n",
       "10       - - -       - - -                        - - -  \n",
       "11       - - -       - - -                        - - -  \n",
       "12       - - -       - - -                        - - -  "
      ]
     },
     "execution_count": 12,
     "metadata": {},
     "output_type": "execute_result"
    }
   ],
   "source": [
    "def grab_col_names(dataframe):\n",
    "    df=dataframe\n",
    "    cat_th=len(dataframe)//20\n",
    "    car_th=len(dataframe)//20\n",
    "\n",
    "\n",
    "    # cat_cols, cat_but_car\n",
    "    cat_cols_object = [col for col in dataframe.columns if dataframe[col].dtypes == \"O\"]\n",
    "    num_but_cat = [col for col in dataframe.columns if ((dataframe[col].nunique() < cat_th)and dataframe[col].nunique() < 15) and\n",
    "                   dataframe[col].dtypes != \"O\"]\n",
    "    cat_but_car = [col for col in dataframe.columns if dataframe[col].nunique() > car_th and\n",
    "                   dataframe[col].dtypes == \"O\"]\n",
    "    cat_cols = cat_cols_object + num_but_cat\n",
    "    cat_cols = [col for col in cat_cols if col not in cat_but_car]\n",
    "\n",
    "    # num_cols\n",
    "    num_cols = [col for col in dataframe.columns if dataframe[col].dtypes != \"O\"]\n",
    "    num_cols = [col for col in num_cols if col not in num_but_cat]\n",
    "    \n",
    "\n",
    "    dfx=pd.DataFrame(np.zeros((len(dataframe.columns), 5)),columns=[\"cat_cols\",\"num_cols\",\"cat_but_car\",\"num_but_cat\",\"cat_cols_object\"])\n",
    "    dfx.loc[:]=\"- - -\"\n",
    "    dfx.loc[0]=[len(cat_cols),len(num_cols),len(cat_but_car),len(num_but_cat),len(cat_cols_object)]\n",
    "    dfx.loc[range(2,len(cat_cols)+2),\"cat_cols\"]=cat_cols\n",
    "    dfx.loc[range(2,len(num_cols)+2),\"num_cols\"]=num_cols\n",
    "    dfx.loc[range(2,len(cat_but_car)+2),\"cat_but_car\"]=cat_but_car\n",
    "    dfx.loc[range(2,len(num_but_cat)+2),\"num_but_cat\"]=num_but_cat\n",
    "    dfx.loc[range(2,len(cat_cols_object)+2),\"cat_cols_object\"]=cat_cols_object\n",
    "    \n",
    "    if len(cat_cols)>len(num_cols):\n",
    "        #print(dfx.iloc[:len(cat_cols)+2])\n",
    "        pass\n",
    "    else:\n",
    "        #print(dfx.iloc[:len(num_cols)+2])\n",
    "        pass\n",
    "    return cat_cols, num_cols, cat_but_car,cat_cols_object,dfx\n",
    "\n",
    "cat_cols, num_cols, cat_but_car,cat_cols_object,dfx = grab_col_names(df)\n",
    "dfx"
   ]
  },
  {
   "cell_type": "markdown",
   "id": "e5fe0e16",
   "metadata": {},
   "source": [
    "<a id = \"9\" ></a>\n",
    "# <span style=\"font-family:serif; font-size:28px;\"> 6. Data Visualization </span>\n",
    "<a id = \"datavisualization\" ></a>"
   ]
  },
  {
   "cell_type": "code",
   "execution_count": 16,
   "id": "da5d8cfd",
   "metadata": {},
   "outputs": [
    {
     "data": {
      "image/png": "[encoded data removed]",
      "text/plain": [
       "<Figure size 288x288 with 1 Axes>"
      ]
     },
     "metadata": {},
     "output_type": "display_data"
    }
   ],
   "source": [
    "fig, ax = plt.subplots(figsize=(4,4))\n",
    "sns.countplot(x=df[\"order_channel\"], data=df, order = df[\"order_channel\"].value_counts().index)\n",
    "for c in ax.containers:\n",
    "    labels = [f'{h/df[\"order_channel\"].count()*100:0.1f}%' if (h := v.get_height()) > 0 else '' for v in c]\n",
    "    ax.bar_label(c,labels=labels, label_type='edge')"
   ]
  },
  {
   "cell_type": "code",
   "execution_count": 17,
   "id": "e70031ae",
   "metadata": {},
   "outputs": [
    {
     "data": {
      "image/png": "[encoded data removed]",
      "text/plain": [
       "<Figure size 2160x576 with 1 Axes>"
      ]
     },
     "metadata": {},
     "output_type": "display_data"
    }
   ],
   "source": [
    "fig, ax = plt.subplots(figsize=(30,8))\n",
    "sns.countplot(x=df[\"interested_in_categories_12\"], data=df, order = df[\"interested_in_categories_12\"].value_counts().index)\n",
    "ax.tick_params(axis='x', rotation=90)\n",
    "for c in ax.containers:\n",
    "    labels = [f'{h/df[\"interested_in_categories_12\"].count()*100:0.1f}%' if (h := v.get_height()) > 0 else '' for v in c]\n",
    "    ax.bar_label(c,labels=labels, label_type='edge')"
   ]
  },
  {
   "cell_type": "markdown",
   "id": "47bcfaef",
   "metadata": {},
   "source": [
    "<a id = \"8\" ></a>\n",
    "# <span style=\"font-family:serif; font-size:28px;\"> 7. Data Manipulation - Preprocessing </span>\n",
    "<a id = \"datavisualization\" ></a>"
   ]
  },
  {
   "cell_type": "code",
   "execution_count": 18,
   "id": "44514e00",
   "metadata": {},
   "outputs": [
    {
     "data": {
      "text/html": [
       "<div>\n",
       "<style scoped>\n",
       "    .dataframe tbody tr th:only-of-type {\n",
       "        vertical-align: middle;\n",
       "    }\n",
       "\n",
       "    .dataframe tbody tr th {\n",
       "        vertical-align: top;\n",
       "    }\n",
       "\n",
       "    .dataframe thead th {\n",
       "        text-align: right;\n",
       "    }\n",
       "</style>\n",
       "<table border=\"1\" class=\"dataframe\">\n",
       "  <thead>\n",
       "    <tr style=\"text-align: right;\">\n",
       "      <th></th>\n",
       "      <th>order_channel</th>\n",
       "      <th>last_order_channel</th>\n",
       "      <th>first_order_date</th>\n",
       "      <th>last_order_date</th>\n",
       "      <th>last_order_date_online</th>\n",
       "      <th>last_order_date_offline</th>\n",
       "      <th>order_num_total_ever_online</th>\n",
       "      <th>order_num_total_ever_offline</th>\n",
       "      <th>customer_value_total_ever_offline</th>\n",
       "      <th>customer_value_total_ever_online</th>\n",
       "      <th>interested_in_categories_12</th>\n",
       "      <th>customer_value_total</th>\n",
       "      <th>order_num_total</th>\n",
       "    </tr>\n",
       "    <tr>\n",
       "      <th>master_id</th>\n",
       "      <th></th>\n",
       "      <th></th>\n",
       "      <th></th>\n",
       "      <th></th>\n",
       "      <th></th>\n",
       "      <th></th>\n",
       "      <th></th>\n",
       "      <th></th>\n",
       "      <th></th>\n",
       "      <th></th>\n",
       "      <th></th>\n",
       "      <th></th>\n",
       "      <th></th>\n",
       "    </tr>\n",
       "  </thead>\n",
       "  <tbody>\n",
       "    <tr>\n",
       "      <th>cc294636-19f0-11eb-8d74-000d3a38a36f</th>\n",
       "      <td>Android App</td>\n",
       "      <td>Offline</td>\n",
       "      <td>2020-10-30</td>\n",
       "      <td>2021-02-26</td>\n",
       "      <td>2021-02-21</td>\n",
       "      <td>2021-02-26</td>\n",
       "      <td>4.0</td>\n",
       "      <td>1.0</td>\n",
       "      <td>139.99</td>\n",
       "      <td>799.38</td>\n",
       "      <td>[KADIN]</td>\n",
       "      <td>939.37</td>\n",
       "      <td>5.0</td>\n",
       "    </tr>\n",
       "  </tbody>\n",
       "</table>\n",
       "</div>"
      ],
      "text/plain": [
       "                                     order_channel last_order_channel  \\\n",
       "master_id                                                               \n",
       "cc294636-19f0-11eb-8d74-000d3a38a36f   Android App            Offline   \n",
       "\n",
       "                                     first_order_date last_order_date  \\\n",
       "master_id                                                               \n",
       "cc294636-19f0-11eb-8d74-000d3a38a36f       2020-10-30      2021-02-26   \n",
       "\n",
       "                                     last_order_date_online  \\\n",
       "master_id                                                     \n",
       "cc294636-19f0-11eb-8d74-000d3a38a36f             2021-02-21   \n",
       "\n",
       "                                     last_order_date_offline  \\\n",
       "master_id                                                      \n",
       "cc294636-19f0-11eb-8d74-000d3a38a36f              2021-02-26   \n",
       "\n",
       "                                      order_num_total_ever_online  \\\n",
       "master_id                                                           \n",
       "cc294636-19f0-11eb-8d74-000d3a38a36f                          4.0   \n",
       "\n",
       "                                      order_num_total_ever_offline  \\\n",
       "master_id                                                            \n",
       "cc294636-19f0-11eb-8d74-000d3a38a36f                           1.0   \n",
       "\n",
       "                                      customer_value_total_ever_offline  \\\n",
       "master_id                                                                 \n",
       "cc294636-19f0-11eb-8d74-000d3a38a36f                             139.99   \n",
       "\n",
       "                                      customer_value_total_ever_online  \\\n",
       "master_id                                                                \n",
       "cc294636-19f0-11eb-8d74-000d3a38a36f                            799.38   \n",
       "\n",
       "                                     interested_in_categories_12  \\\n",
       "master_id                                                          \n",
       "cc294636-19f0-11eb-8d74-000d3a38a36f                     [KADIN]   \n",
       "\n",
       "                                      customer_value_total  order_num_total  \n",
       "master_id                                                                    \n",
       "cc294636-19f0-11eb-8d74-000d3a38a36f                939.37              5.0  "
      ]
     },
     "execution_count": 18,
     "metadata": {},
     "output_type": "execute_result"
    }
   ],
   "source": [
    "df.head(1)"
   ]
  },
  {
   "cell_type": "code",
   "execution_count": 19,
   "id": "fda65c62",
   "metadata": {},
   "outputs": [
    {
     "data": {
      "text/html": [
       "<div>\n",
       "<style scoped>\n",
       "    .dataframe tbody tr th:only-of-type {\n",
       "        vertical-align: middle;\n",
       "    }\n",
       "\n",
       "    .dataframe tbody tr th {\n",
       "        vertical-align: top;\n",
       "    }\n",
       "\n",
       "    .dataframe thead th {\n",
       "        text-align: right;\n",
       "    }\n",
       "</style>\n",
       "<table border=\"1\" class=\"dataframe\">\n",
       "  <thead>\n",
       "    <tr style=\"text-align: right;\">\n",
       "      <th></th>\n",
       "      <th>last_order_date</th>\n",
       "      <th>order_num_total</th>\n",
       "      <th>customer_value_total</th>\n",
       "    </tr>\n",
       "    <tr>\n",
       "      <th>master_id</th>\n",
       "      <th></th>\n",
       "      <th></th>\n",
       "      <th></th>\n",
       "    </tr>\n",
       "  </thead>\n",
       "  <tbody>\n",
       "    <tr>\n",
       "      <th>00016786-2f5a-11ea-bb80-000d3a38a36f</th>\n",
       "      <td>8</td>\n",
       "      <td>5.0</td>\n",
       "      <td>776.07</td>\n",
       "    </tr>\n",
       "    <tr>\n",
       "      <th>00034aaa-a838-11e9-a2fc-000d3a38a36f</th>\n",
       "      <td>296</td>\n",
       "      <td>3.0</td>\n",
       "      <td>269.47</td>\n",
       "    </tr>\n",
       "    <tr>\n",
       "      <th>000be838-85df-11ea-a90b-000d3a38a36f</th>\n",
       "      <td>211</td>\n",
       "      <td>4.0</td>\n",
       "      <td>722.69</td>\n",
       "    </tr>\n",
       "    <tr>\n",
       "      <th>000c1fe2-a8b7-11ea-8479-000d3a38a36f</th>\n",
       "      <td>25</td>\n",
       "      <td>7.0</td>\n",
       "      <td>874.16</td>\n",
       "    </tr>\n",
       "    <tr>\n",
       "      <th>000f5e3e-9dde-11ea-80cd-000d3a38a36f</th>\n",
       "      <td>18</td>\n",
       "      <td>7.0</td>\n",
       "      <td>1620.33</td>\n",
       "    </tr>\n",
       "  </tbody>\n",
       "</table>\n",
       "</div>"
      ],
      "text/plain": [
       "                                      last_order_date  order_num_total  \\\n",
       "master_id                                                                \n",
       "00016786-2f5a-11ea-bb80-000d3a38a36f                8              5.0   \n",
       "00034aaa-a838-11e9-a2fc-000d3a38a36f              296              3.0   \n",
       "000be838-85df-11ea-a90b-000d3a38a36f              211              4.0   \n",
       "000c1fe2-a8b7-11ea-8479-000d3a38a36f               25              7.0   \n",
       "000f5e3e-9dde-11ea-80cd-000d3a38a36f               18              7.0   \n",
       "\n",
       "                                      customer_value_total  \n",
       "master_id                                                   \n",
       "00016786-2f5a-11ea-bb80-000d3a38a36f                776.07  \n",
       "00034aaa-a838-11e9-a2fc-000d3a38a36f                269.47  \n",
       "000be838-85df-11ea-a90b-000d3a38a36f                722.69  \n",
       "000c1fe2-a8b7-11ea-8479-000d3a38a36f                874.16  \n",
       "000f5e3e-9dde-11ea-80cd-000d3a38a36f               1620.33  "
      ]
     },
     "execution_count": 19,
     "metadata": {},
     "output_type": "execute_result"
    }
   ],
   "source": [
    "last_order_date_max = df[\"last_order_date\"].max()\n",
    "dfx = df.groupby('master_id').agg({'last_order_date': lambda last_order_date: (last_order_date_max - last_order_date),#.days, # recency\n",
    "                                   'order_num_total': lambda order_num_total: order_num_total,#frequency\n",
    "                                   'customer_value_total': lambda customer_value_total: customer_value_total}) # Monetary\n",
    "dfx.last_order_date=[i.days for i in dfx.last_order_date]\n",
    "dfx.head()"
   ]
  },
  {
   "cell_type": "code",
   "execution_count": 20,
   "id": "3e0f97b0",
   "metadata": {},
   "outputs": [
    {
     "data": {
      "text/html": [
       "<div>\n",
       "<style scoped>\n",
       "    .dataframe tbody tr th:only-of-type {\n",
       "        vertical-align: middle;\n",
       "    }\n",
       "\n",
       "    .dataframe tbody tr th {\n",
       "        vertical-align: top;\n",
       "    }\n",
       "\n",
       "    .dataframe thead th {\n",
       "        text-align: right;\n",
       "    }\n",
       "</style>\n",
       "<table border=\"1\" class=\"dataframe\">\n",
       "  <thead>\n",
       "    <tr style=\"text-align: right;\">\n",
       "      <th></th>\n",
       "      <th>interested_in_categories_12</th>\n",
       "    </tr>\n",
       "    <tr>\n",
       "      <th>master_id</th>\n",
       "      <th></th>\n",
       "    </tr>\n",
       "  </thead>\n",
       "  <tbody>\n",
       "    <tr>\n",
       "      <th>cc294636-19f0-11eb-8d74-000d3a38a36f</th>\n",
       "      <td>[KADIN]</td>\n",
       "    </tr>\n",
       "    <tr>\n",
       "      <th>f431bd5a-ab7b-11e9-a2fc-000d3a38a36f</th>\n",
       "      <td>[ERKEK, COCUK, KADIN, AKTIFSPOR]</td>\n",
       "    </tr>\n",
       "    <tr>\n",
       "      <th>69b69676-1a40-11ea-941b-000d3a38a36f</th>\n",
       "      <td>[ERKEK, KADIN]</td>\n",
       "    </tr>\n",
       "  </tbody>\n",
       "</table>\n",
       "</div>"
      ],
      "text/plain": [
       "                                           interested_in_categories_12\n",
       "master_id                                                             \n",
       "cc294636-19f0-11eb-8d74-000d3a38a36f                           [KADIN]\n",
       "f431bd5a-ab7b-11e9-a2fc-000d3a38a36f  [ERKEK, COCUK, KADIN, AKTIFSPOR]\n",
       "69b69676-1a40-11ea-941b-000d3a38a36f                    [ERKEK, KADIN]"
      ]
     },
     "execution_count": 20,
     "metadata": {},
     "output_type": "execute_result"
    }
   ],
   "source": [
    "dfy=df[[\"interested_in_categories_12\"]]\n",
    "dfy.head(3)"
   ]
  },
  {
   "cell_type": "code",
   "execution_count": 21,
   "id": "57785d76",
   "metadata": {},
   "outputs": [
    {
     "data": {
      "text/html": [
       "<div>\n",
       "<style scoped>\n",
       "    .dataframe tbody tr th:only-of-type {\n",
       "        vertical-align: middle;\n",
       "    }\n",
       "\n",
       "    .dataframe tbody tr th {\n",
       "        vertical-align: top;\n",
       "    }\n",
       "\n",
       "    .dataframe thead th {\n",
       "        text-align: right;\n",
       "    }\n",
       "</style>\n",
       "<table border=\"1\" class=\"dataframe\">\n",
       "  <thead>\n",
       "    <tr style=\"text-align: right;\">\n",
       "      <th></th>\n",
       "      <th>interested_in_categories_12</th>\n",
       "      <th>UNSPECIFIED</th>\n",
       "    </tr>\n",
       "    <tr>\n",
       "      <th>master_id</th>\n",
       "      <th></th>\n",
       "      <th></th>\n",
       "    </tr>\n",
       "  </thead>\n",
       "  <tbody>\n",
       "    <tr>\n",
       "      <th>cc7a587e-3110-11ea-b884-000d3a38a36f</th>\n",
       "      <td>[]</td>\n",
       "      <td>1</td>\n",
       "    </tr>\n",
       "    <tr>\n",
       "      <th>af94d3c0-b199-11e9-89fa-000d3a38a36f</th>\n",
       "      <td>[]</td>\n",
       "      <td>1</td>\n",
       "    </tr>\n",
       "    <tr>\n",
       "      <th>6d57890e-9f67-11eb-9c47-000d3a38a36f</th>\n",
       "      <td>[]</td>\n",
       "      <td>1</td>\n",
       "    </tr>\n",
       "  </tbody>\n",
       "</table>\n",
       "</div>"
      ],
      "text/plain": [
       "                                     interested_in_categories_12  UNSPECIFIED\n",
       "master_id                                                                    \n",
       "cc7a587e-3110-11ea-b884-000d3a38a36f                          []            1\n",
       "af94d3c0-b199-11e9-89fa-000d3a38a36f                          []            1\n",
       "6d57890e-9f67-11eb-9c47-000d3a38a36f                          []            1"
      ]
     },
     "execution_count": 21,
     "metadata": {},
     "output_type": "execute_result"
    }
   ],
   "source": [
    "dfy[\"UNSPECIFIED\"]=0\n",
    "dfy.loc[dfy[df[\"interested_in_categories_12\"]==\"[]\"].index,\"UNSPECIFIED\"]=1\n",
    "dfy[df[\"interested_in_categories_12\"]==\"[]\"].head(3)"
   ]
  },
  {
   "cell_type": "code",
   "execution_count": 22,
   "id": "0a677190",
   "metadata": {},
   "outputs": [
    {
     "data": {
      "text/plain": [
       "{'AKTIFCOCUK', 'AKTIFSPOR', 'COCUK', 'ERKEK', 'KADIN'}"
      ]
     },
     "execution_count": 22,
     "metadata": {},
     "output_type": "execute_result"
    }
   ],
   "source": [
    "interested_in_categories_12_uniques=set(df[\"interested_in_categories_12\"].unique().sum().\n",
    "                                        replace(\"[\",\" \").\n",
    "                                        replace(\"]\",\" \").\n",
    "                                        replace(\",\",\" \").\n",
    "                                        replace(\"   \",\" \").\n",
    "                                        replace(\"  \",\" \").\n",
    "                                        strip().\n",
    "                                        split())\n",
    "interested_in_categories_12_uniques"
   ]
  },
  {
   "cell_type": "code",
   "execution_count": 23,
   "id": "90e5b06b",
   "metadata": {},
   "outputs": [
    {
     "data": {
      "text/html": [
       "<div>\n",
       "<style scoped>\n",
       "    .dataframe tbody tr th:only-of-type {\n",
       "        vertical-align: middle;\n",
       "    }\n",
       "\n",
       "    .dataframe tbody tr th {\n",
       "        vertical-align: top;\n",
       "    }\n",
       "\n",
       "    .dataframe thead th {\n",
       "        text-align: right;\n",
       "    }\n",
       "</style>\n",
       "<table border=\"1\" class=\"dataframe\">\n",
       "  <thead>\n",
       "    <tr style=\"text-align: right;\">\n",
       "      <th></th>\n",
       "      <th>interested_in_categories_12</th>\n",
       "      <th>UNSPECIFIED</th>\n",
       "      <th>AKTIFSPOR</th>\n",
       "      <th>AKTIFCOCUK</th>\n",
       "      <th>COCUK</th>\n",
       "      <th>KADIN</th>\n",
       "      <th>ERKEK</th>\n",
       "    </tr>\n",
       "    <tr>\n",
       "      <th>master_id</th>\n",
       "      <th></th>\n",
       "      <th></th>\n",
       "      <th></th>\n",
       "      <th></th>\n",
       "      <th></th>\n",
       "      <th></th>\n",
       "      <th></th>\n",
       "    </tr>\n",
       "  </thead>\n",
       "  <tbody>\n",
       "    <tr>\n",
       "      <th>cc294636-19f0-11eb-8d74-000d3a38a36f</th>\n",
       "      <td>[KADIN]</td>\n",
       "      <td>0</td>\n",
       "      <td>0</td>\n",
       "      <td>0</td>\n",
       "      <td>0</td>\n",
       "      <td>1</td>\n",
       "      <td>0</td>\n",
       "    </tr>\n",
       "    <tr>\n",
       "      <th>f431bd5a-ab7b-11e9-a2fc-000d3a38a36f</th>\n",
       "      <td>[ERKEK, COCUK, KADIN, AKTIFSPOR]</td>\n",
       "      <td>0</td>\n",
       "      <td>1</td>\n",
       "      <td>0</td>\n",
       "      <td>1</td>\n",
       "      <td>1</td>\n",
       "      <td>1</td>\n",
       "    </tr>\n",
       "    <tr>\n",
       "      <th>69b69676-1a40-11ea-941b-000d3a38a36f</th>\n",
       "      <td>[ERKEK, KADIN]</td>\n",
       "      <td>0</td>\n",
       "      <td>0</td>\n",
       "      <td>0</td>\n",
       "      <td>0</td>\n",
       "      <td>1</td>\n",
       "      <td>1</td>\n",
       "    </tr>\n",
       "    <tr>\n",
       "      <th>1854e56c-491f-11eb-806e-000d3a38a36f</th>\n",
       "      <td>[AKTIFCOCUK, COCUK]</td>\n",
       "      <td>0</td>\n",
       "      <td>0</td>\n",
       "      <td>1</td>\n",
       "      <td>1</td>\n",
       "      <td>0</td>\n",
       "      <td>0</td>\n",
       "    </tr>\n",
       "    <tr>\n",
       "      <th>d6ea1074-f1f5-11e9-9346-000d3a38a36f</th>\n",
       "      <td>[AKTIFSPOR]</td>\n",
       "      <td>0</td>\n",
       "      <td>1</td>\n",
       "      <td>0</td>\n",
       "      <td>0</td>\n",
       "      <td>0</td>\n",
       "      <td>0</td>\n",
       "    </tr>\n",
       "  </tbody>\n",
       "</table>\n",
       "</div>"
      ],
      "text/plain": [
       "                                           interested_in_categories_12  \\\n",
       "master_id                                                                \n",
       "cc294636-19f0-11eb-8d74-000d3a38a36f                           [KADIN]   \n",
       "f431bd5a-ab7b-11e9-a2fc-000d3a38a36f  [ERKEK, COCUK, KADIN, AKTIFSPOR]   \n",
       "69b69676-1a40-11ea-941b-000d3a38a36f                    [ERKEK, KADIN]   \n",
       "1854e56c-491f-11eb-806e-000d3a38a36f               [AKTIFCOCUK, COCUK]   \n",
       "d6ea1074-f1f5-11e9-9346-000d3a38a36f                       [AKTIFSPOR]   \n",
       "\n",
       "                                      UNSPECIFIED  AKTIFSPOR  AKTIFCOCUK  \\\n",
       "master_id                                                                  \n",
       "cc294636-19f0-11eb-8d74-000d3a38a36f            0          0           0   \n",
       "f431bd5a-ab7b-11e9-a2fc-000d3a38a36f            0          1           0   \n",
       "69b69676-1a40-11ea-941b-000d3a38a36f            0          0           0   \n",
       "1854e56c-491f-11eb-806e-000d3a38a36f            0          0           1   \n",
       "d6ea1074-f1f5-11e9-9346-000d3a38a36f            0          1           0   \n",
       "\n",
       "                                      COCUK  KADIN  ERKEK  \n",
       "master_id                                                  \n",
       "cc294636-19f0-11eb-8d74-000d3a38a36f      0      1      0  \n",
       "f431bd5a-ab7b-11e9-a2fc-000d3a38a36f      1      1      1  \n",
       "69b69676-1a40-11ea-941b-000d3a38a36f      0      1      1  \n",
       "1854e56c-491f-11eb-806e-000d3a38a36f      1      0      0  \n",
       "d6ea1074-f1f5-11e9-9346-000d3a38a36f      0      0      0  "
      ]
     },
     "execution_count": 23,
     "metadata": {},
     "output_type": "execute_result"
    }
   ],
   "source": [
    "for col in interested_in_categories_12_uniques:\n",
    "    dfy[col]=0\n",
    "    \n",
    "    for index in dfy.index:\n",
    "        if col in dfy.loc[index,\"interested_in_categories_12\"]:\n",
    "            dfy.loc[index,col]=1\n",
    "dfy.head(5)"
   ]
  },
  {
   "cell_type": "code",
   "execution_count": 24,
   "id": "35d3b43d",
   "metadata": {},
   "outputs": [
    {
     "data": {
      "text/html": [
       "<div>\n",
       "<style scoped>\n",
       "    .dataframe tbody tr th:only-of-type {\n",
       "        vertical-align: middle;\n",
       "    }\n",
       "\n",
       "    .dataframe tbody tr th {\n",
       "        vertical-align: top;\n",
       "    }\n",
       "\n",
       "    .dataframe thead th {\n",
       "        text-align: right;\n",
       "    }\n",
       "</style>\n",
       "<table border=\"1\" class=\"dataframe\">\n",
       "  <thead>\n",
       "    <tr style=\"text-align: right;\">\n",
       "      <th></th>\n",
       "      <th>last_order_date</th>\n",
       "      <th>order_num_total</th>\n",
       "      <th>customer_value_total</th>\n",
       "      <th>UNSPECIFIED</th>\n",
       "      <th>AKTIFSPOR</th>\n",
       "      <th>AKTIFCOCUK</th>\n",
       "      <th>COCUK</th>\n",
       "      <th>KADIN</th>\n",
       "      <th>ERKEK</th>\n",
       "    </tr>\n",
       "    <tr>\n",
       "      <th>master_id</th>\n",
       "      <th></th>\n",
       "      <th></th>\n",
       "      <th></th>\n",
       "      <th></th>\n",
       "      <th></th>\n",
       "      <th></th>\n",
       "      <th></th>\n",
       "      <th></th>\n",
       "      <th></th>\n",
       "    </tr>\n",
       "  </thead>\n",
       "  <tbody>\n",
       "    <tr>\n",
       "      <th>00016786-2f5a-11ea-bb80-000d3a38a36f</th>\n",
       "      <td>8</td>\n",
       "      <td>5.0</td>\n",
       "      <td>776.07</td>\n",
       "      <td>0</td>\n",
       "      <td>1</td>\n",
       "      <td>0</td>\n",
       "      <td>1</td>\n",
       "      <td>0</td>\n",
       "      <td>1</td>\n",
       "    </tr>\n",
       "    <tr>\n",
       "      <th>00034aaa-a838-11e9-a2fc-000d3a38a36f</th>\n",
       "      <td>296</td>\n",
       "      <td>3.0</td>\n",
       "      <td>269.47</td>\n",
       "      <td>0</td>\n",
       "      <td>0</td>\n",
       "      <td>0</td>\n",
       "      <td>0</td>\n",
       "      <td>1</td>\n",
       "      <td>1</td>\n",
       "    </tr>\n",
       "    <tr>\n",
       "      <th>000be838-85df-11ea-a90b-000d3a38a36f</th>\n",
       "      <td>211</td>\n",
       "      <td>4.0</td>\n",
       "      <td>722.69</td>\n",
       "      <td>0</td>\n",
       "      <td>1</td>\n",
       "      <td>1</td>\n",
       "      <td>1</td>\n",
       "      <td>0</td>\n",
       "      <td>0</td>\n",
       "    </tr>\n",
       "    <tr>\n",
       "      <th>000c1fe2-a8b7-11ea-8479-000d3a38a36f</th>\n",
       "      <td>25</td>\n",
       "      <td>7.0</td>\n",
       "      <td>874.16</td>\n",
       "      <td>0</td>\n",
       "      <td>1</td>\n",
       "      <td>1</td>\n",
       "      <td>1</td>\n",
       "      <td>1</td>\n",
       "      <td>1</td>\n",
       "    </tr>\n",
       "    <tr>\n",
       "      <th>000f5e3e-9dde-11ea-80cd-000d3a38a36f</th>\n",
       "      <td>18</td>\n",
       "      <td>7.0</td>\n",
       "      <td>1620.33</td>\n",
       "      <td>0</td>\n",
       "      <td>1</td>\n",
       "      <td>0</td>\n",
       "      <td>0</td>\n",
       "      <td>0</td>\n",
       "      <td>1</td>\n",
       "    </tr>\n",
       "  </tbody>\n",
       "</table>\n",
       "</div>"
      ],
      "text/plain": [
       "                                      last_order_date  order_num_total  \\\n",
       "master_id                                                                \n",
       "00016786-2f5a-11ea-bb80-000d3a38a36f                8              5.0   \n",
       "00034aaa-a838-11e9-a2fc-000d3a38a36f              296              3.0   \n",
       "000be838-85df-11ea-a90b-000d3a38a36f              211              4.0   \n",
       "000c1fe2-a8b7-11ea-8479-000d3a38a36f               25              7.0   \n",
       "000f5e3e-9dde-11ea-80cd-000d3a38a36f               18              7.0   \n",
       "\n",
       "                                      customer_value_total  UNSPECIFIED  \\\n",
       "master_id                                                                 \n",
       "00016786-2f5a-11ea-bb80-000d3a38a36f                776.07            0   \n",
       "00034aaa-a838-11e9-a2fc-000d3a38a36f                269.47            0   \n",
       "000be838-85df-11ea-a90b-000d3a38a36f                722.69            0   \n",
       "000c1fe2-a8b7-11ea-8479-000d3a38a36f                874.16            0   \n",
       "000f5e3e-9dde-11ea-80cd-000d3a38a36f               1620.33            0   \n",
       "\n",
       "                                      AKTIFSPOR  AKTIFCOCUK  COCUK  KADIN  \\\n",
       "master_id                                                                   \n",
       "00016786-2f5a-11ea-bb80-000d3a38a36f          1           0      1      0   \n",
       "00034aaa-a838-11e9-a2fc-000d3a38a36f          0           0      0      1   \n",
       "000be838-85df-11ea-a90b-000d3a38a36f          1           1      1      0   \n",
       "000c1fe2-a8b7-11ea-8479-000d3a38a36f          1           1      1      1   \n",
       "000f5e3e-9dde-11ea-80cd-000d3a38a36f          1           0      0      0   \n",
       "\n",
       "                                      ERKEK  \n",
       "master_id                                    \n",
       "00016786-2f5a-11ea-bb80-000d3a38a36f      1  \n",
       "00034aaa-a838-11e9-a2fc-000d3a38a36f      1  \n",
       "000be838-85df-11ea-a90b-000d3a38a36f      0  \n",
       "000c1fe2-a8b7-11ea-8479-000d3a38a36f      1  \n",
       "000f5e3e-9dde-11ea-80cd-000d3a38a36f      1  "
      ]
     },
     "execution_count": 24,
     "metadata": {},
     "output_type": "execute_result"
    }
   ],
   "source": [
    "dfx[dfy.columns[1:]]=dfy[dfy.columns[1:]]\n",
    "dfx.head(5)"
   ]
  },
  {
   "cell_type": "markdown",
   "id": "d60fa3e9",
   "metadata": {},
   "source": [
    "<a id = \"88\" ></a>\n",
    "# <span style=\"font-family:serif; font-size:28px;\"> 8. K-Means Clustering </span>\n",
    "<a id = \"datavisualization\" ></a>"
   ]
  },
  {
   "cell_type": "markdown",
   "id": "47664cb6",
   "metadata": {},
   "source": [
    "**We have reached the final dataframe. Here we will group according to 2 different contents.**\n",
    "\n",
    "* Task 1: Customers will be divided into groups according to their \"monetary, frequency and recency\"==\"last_order_date, order_num_total,customer_value_total\" values.\n",
    "\n",
    "* Task 2: Customers will be grouped according to their \"interested_in_categories_12\" values.\n"
   ]
  },
  {
   "cell_type": "markdown",
   "id": "c3cdc192",
   "metadata": {},
   "source": [
    "<a id = \"10\" ></a>\n",
    "# <span style=\"font-family:serif; font-size:28px;\"> 80. Task 1 </span>\n",
    "<a id = \"datavisualization\" ></a>"
   ]
  },
  {
   "cell_type": "markdown",
   "id": "c120394b",
   "metadata": {},
   "source": [
    "<img src=\"https://miro.medium.com/max/720/1*UV1HRkUupEMhjMwFkILavA.png\" width=\"600\">"
   ]
  },
  {
   "cell_type": "code",
   "execution_count": 25,
   "id": "810fbfcd",
   "metadata": {
    "scrolled": true
   },
   "outputs": [
    {
     "data": {
      "text/html": [
       "<div>\n",
       "<style scoped>\n",
       "    .dataframe tbody tr th:only-of-type {\n",
       "        vertical-align: middle;\n",
       "    }\n",
       "\n",
       "    .dataframe tbody tr th {\n",
       "        vertical-align: top;\n",
       "    }\n",
       "\n",
       "    .dataframe thead th {\n",
       "        text-align: right;\n",
       "    }\n",
       "</style>\n",
       "<table border=\"1\" class=\"dataframe\">\n",
       "  <thead>\n",
       "    <tr style=\"text-align: right;\">\n",
       "      <th></th>\n",
       "      <th>last_order_date</th>\n",
       "      <th>order_num_total</th>\n",
       "      <th>customer_value_total</th>\n",
       "      <th>UNSPECIFIED</th>\n",
       "      <th>AKTIFSPOR</th>\n",
       "      <th>AKTIFCOCUK</th>\n",
       "      <th>COCUK</th>\n",
       "      <th>KADIN</th>\n",
       "      <th>ERKEK</th>\n",
       "    </tr>\n",
       "    <tr>\n",
       "      <th>master_id</th>\n",
       "      <th></th>\n",
       "      <th></th>\n",
       "      <th></th>\n",
       "      <th></th>\n",
       "      <th></th>\n",
       "      <th></th>\n",
       "      <th></th>\n",
       "      <th></th>\n",
       "      <th></th>\n",
       "    </tr>\n",
       "  </thead>\n",
       "  <tbody>\n",
       "    <tr>\n",
       "      <th>00016786-2f5a-11ea-bb80-000d3a38a36f</th>\n",
       "      <td>8</td>\n",
       "      <td>5.0</td>\n",
       "      <td>776.07</td>\n",
       "      <td>0</td>\n",
       "      <td>1</td>\n",
       "      <td>0</td>\n",
       "      <td>1</td>\n",
       "      <td>0</td>\n",
       "      <td>1</td>\n",
       "    </tr>\n",
       "    <tr>\n",
       "      <th>00034aaa-a838-11e9-a2fc-000d3a38a36f</th>\n",
       "      <td>296</td>\n",
       "      <td>3.0</td>\n",
       "      <td>269.47</td>\n",
       "      <td>0</td>\n",
       "      <td>0</td>\n",
       "      <td>0</td>\n",
       "      <td>0</td>\n",
       "      <td>1</td>\n",
       "      <td>1</td>\n",
       "    </tr>\n",
       "    <tr>\n",
       "      <th>000be838-85df-11ea-a90b-000d3a38a36f</th>\n",
       "      <td>211</td>\n",
       "      <td>4.0</td>\n",
       "      <td>722.69</td>\n",
       "      <td>0</td>\n",
       "      <td>1</td>\n",
       "      <td>1</td>\n",
       "      <td>1</td>\n",
       "      <td>0</td>\n",
       "      <td>0</td>\n",
       "    </tr>\n",
       "  </tbody>\n",
       "</table>\n",
       "</div>"
      ],
      "text/plain": [
       "                                      last_order_date  order_num_total  \\\n",
       "master_id                                                                \n",
       "00016786-2f5a-11ea-bb80-000d3a38a36f                8              5.0   \n",
       "00034aaa-a838-11e9-a2fc-000d3a38a36f              296              3.0   \n",
       "000be838-85df-11ea-a90b-000d3a38a36f              211              4.0   \n",
       "\n",
       "                                      customer_value_total  UNSPECIFIED  \\\n",
       "master_id                                                                 \n",
       "00016786-2f5a-11ea-bb80-000d3a38a36f                776.07            0   \n",
       "00034aaa-a838-11e9-a2fc-000d3a38a36f                269.47            0   \n",
       "000be838-85df-11ea-a90b-000d3a38a36f                722.69            0   \n",
       "\n",
       "                                      AKTIFSPOR  AKTIFCOCUK  COCUK  KADIN  \\\n",
       "master_id                                                                   \n",
       "00016786-2f5a-11ea-bb80-000d3a38a36f          1           0      1      0   \n",
       "00034aaa-a838-11e9-a2fc-000d3a38a36f          0           0      0      1   \n",
       "000be838-85df-11ea-a90b-000d3a38a36f          1           1      1      0   \n",
       "\n",
       "                                      ERKEK  \n",
       "master_id                                    \n",
       "00016786-2f5a-11ea-bb80-000d3a38a36f      1  \n",
       "00034aaa-a838-11e9-a2fc-000d3a38a36f      1  \n",
       "000be838-85df-11ea-a90b-000d3a38a36f      0  "
      ]
     },
     "execution_count": 25,
     "metadata": {},
     "output_type": "execute_result"
    }
   ],
   "source": [
    "dfx.head(3)"
   ]
  },
  {
   "cell_type": "code",
   "execution_count": 26,
   "id": "f34d1188",
   "metadata": {},
   "outputs": [
    {
     "data": {
      "text/html": [
       "<div>\n",
       "<style scoped>\n",
       "    .dataframe tbody tr th:only-of-type {\n",
       "        vertical-align: middle;\n",
       "    }\n",
       "\n",
       "    .dataframe tbody tr th {\n",
       "        vertical-align: top;\n",
       "    }\n",
       "\n",
       "    .dataframe thead th {\n",
       "        text-align: right;\n",
       "    }\n",
       "</style>\n",
       "<table border=\"1\" class=\"dataframe\">\n",
       "  <thead>\n",
       "    <tr style=\"text-align: right;\">\n",
       "      <th></th>\n",
       "      <th>recency</th>\n",
       "      <th>frequency</th>\n",
       "      <th>monetary</th>\n",
       "    </tr>\n",
       "    <tr>\n",
       "      <th>master_id</th>\n",
       "      <th></th>\n",
       "      <th></th>\n",
       "      <th></th>\n",
       "    </tr>\n",
       "  </thead>\n",
       "  <tbody>\n",
       "    <tr>\n",
       "      <th>00016786-2f5a-11ea-bb80-000d3a38a36f</th>\n",
       "      <td>8</td>\n",
       "      <td>5.0</td>\n",
       "      <td>776.07</td>\n",
       "    </tr>\n",
       "    <tr>\n",
       "      <th>00034aaa-a838-11e9-a2fc-000d3a38a36f</th>\n",
       "      <td>296</td>\n",
       "      <td>3.0</td>\n",
       "      <td>269.47</td>\n",
       "    </tr>\n",
       "    <tr>\n",
       "      <th>000be838-85df-11ea-a90b-000d3a38a36f</th>\n",
       "      <td>211</td>\n",
       "      <td>4.0</td>\n",
       "      <td>722.69</td>\n",
       "    </tr>\n",
       "  </tbody>\n",
       "</table>\n",
       "</div>"
      ],
      "text/plain": [
       "                                      recency  frequency  monetary\n",
       "master_id                                                         \n",
       "00016786-2f5a-11ea-bb80-000d3a38a36f        8        5.0    776.07\n",
       "00034aaa-a838-11e9-a2fc-000d3a38a36f      296        3.0    269.47\n",
       "000be838-85df-11ea-a90b-000d3a38a36f      211        4.0    722.69"
      ]
     },
     "execution_count": 26,
     "metadata": {},
     "output_type": "execute_result"
    }
   ],
   "source": [
    "df_final_=dfx[[\"last_order_date\",\"order_num_total\",\"customer_value_total\"]]\n",
    "df_final_.columns=[\"recency\",\"frequency\" , \"monetary\"]\n",
    "df_final_.head(3)"
   ]
  },
  {
   "cell_type": "code",
   "execution_count": 27,
   "id": "a6a8d35d",
   "metadata": {},
   "outputs": [
    {
     "data": {
      "text/plain": [
       "array([[0.02191781, 0.015     , 0.01594174],\n",
       "       [0.8109589 , 0.005     , 0.0048951 ],\n",
       "       [0.57808219, 0.01      , 0.01477776],\n",
       "       [0.06849315, 0.025     , 0.01808063],\n",
       "       [0.04931507, 0.025     , 0.0343512 ]])"
      ]
     },
     "execution_count": 27,
     "metadata": {},
     "output_type": "execute_result"
    }
   ],
   "source": [
    "sc = MinMaxScaler((0, 1)) # it's important to standardize on distance-based models\n",
    "df_final = sc.fit_transform(df_final_)\n",
    "df_final[0:5]"
   ]
  },
  {
   "cell_type": "markdown",
   "id": "69b17f98",
   "metadata": {},
   "source": [
    "<a id = \"811\" ></a>\n",
    "# <span style=\"font-family:serif; font-size:28px;\"> 801. Determining the Optimum Number of Clusters </span>\n",
    "<a id = \"datavisualization\" ></a>"
   ]
  },
  {
   "cell_type": "code",
   "execution_count": 28,
   "id": "da447ef9",
   "metadata": {},
   "outputs": [
    {
     "data": {
      "image/png": "[encoded data removed]",
      "text/plain": [
       "<Figure size 576x396 with 1 Axes>"
      ]
     },
     "metadata": {},
     "output_type": "display_data"
    }
   ],
   "source": [
    "################################\n",
    "# Determining the Optimum Number of Clusters\n",
    "################################\n",
    "\n",
    "kmeans = KMeans()\n",
    "ssd = []\n",
    "K = range(1, 30)\n",
    "\n",
    "for k in K:\n",
    "    kmeans = KMeans(n_clusters=k).fit(df_final)\n",
    "    ssd.append(kmeans.inertia_)\n",
    "\n",
    "plt.plot(K, ssd, \"bx-\")\n",
    "plt.xlabel(\"Farklı K Değerlerine Karşılık SSE/SSR/SSD\")\n",
    "plt.title(\"Optimum Küme sayısı için Elbow Yöntemi\")\n",
    "plt.show()"
   ]
  },
  {
   "cell_type": "markdown",
   "id": "5564d866",
   "metadata": {},
   "source": [
    "We can say that it is less than 5. To determine the exact number of clusters, let's re-examine the range values ​​by reducing them."
   ]
  },
  {
   "cell_type": "code",
   "execution_count": 29,
   "id": "1e1e5394",
   "metadata": {
    "scrolled": false
   },
   "outputs": [
    {
     "name": "stdout",
     "output_type": "stream",
     "text": [
      "grup count : 1 --- kmeans.inertia_ : 1615 percentage of decline %: -0.0\n",
      "grup count : 2 --- kmeans.inertia_ : 432 percentage of decline %: 0.73\n",
      "grup count : 3 --- kmeans.inertia_ : 193 percentage of decline %: 0.55\n",
      "grup count : 4 --- kmeans.inertia_ : 109 percentage of decline %: 0.43\n",
      "grup count : 5 --- kmeans.inertia_ : 77 percentage of decline %: 0.29\n",
      "grup count : 6 --- kmeans.inertia_ : 56 percentage of decline %: 0.27\n",
      "grup count : 7 --- kmeans.inertia_ : 47 percentage of decline %: 0.15\n",
      "grup count : 8 --- kmeans.inertia_ : 41 percentage of decline %: 0.12\n",
      "grup count : 9 --- kmeans.inertia_ : 36 percentage of decline %: 0.11\n"
     ]
    },
    {
     "data": {
      "image/png": "[encoded data removed]",
      "text/plain": [
       "<Figure size 576x396 with 1 Axes>"
      ]
     },
     "metadata": {},
     "output_type": "display_data"
    }
   ],
   "source": [
    "kmeans = KMeans()\n",
    "ssd = []\n",
    "K = range(1, 10)\n",
    "kmeans_inertia__before=1615\n",
    "for k in K:\n",
    "    kmeans = KMeans(n_clusters=k).fit(df_final)\n",
    "    ssd.append(kmeans.inertia_)\n",
    "    \n",
    "    diff=round((1-kmeans.inertia_/kmeans_inertia__before),2)\n",
    "    print(\"grup count :\",k,\"---\",\"kmeans.inertia_ :\",int(kmeans.inertia_), \"percentage of decline %:\",diff)\n",
    "    kmeans_inertia__before=int(kmeans.inertia_)\n",
    "plt.plot(K, ssd, \"bx-\")\n",
    "plt.xlabel(\"Farklı K Değerlerine Karşılık SSE/SSR/SSD\")\n",
    "plt.title(\"Optimum Küme sayısı için Elbow Yöntemi\")\n",
    "plt.show()"
   ]
  },
  {
   "cell_type": "markdown",
   "id": "ef353b8d",
   "metadata": {},
   "source": [
    "By examining these values, I decided to divide them into 4 separate groups. It can also be decided to divide into 2 or 3 groups. this decision should be made using business intelligence, taking into account goals and desires, and examining these values.\n",
    "\n",
    "It seems quite logical in a 6-group. However, I decided that the value of 30% and the number of 4-groups was appropriate. You can change these numbers according to different targets."
   ]
  },
  {
   "cell_type": "markdown",
   "id": "0683df4d",
   "metadata": {},
   "source": [
    "<a id = \"812\" ></a>\n",
    "# <span style=\"font-family:serif; font-size:28px;\"> 802. Elbow method </span>\n",
    "<a id = \"datavisualization\" ></a>"
   ]
  },
  {
   "cell_type": "code",
   "execution_count": 30,
   "id": "ff315d2c",
   "metadata": {},
   "outputs": [
    {
     "data": {
      "image/png": "[encoded data removed]",
      "text/plain": [
       "<Figure size 576x396 with 2 Axes>"
      ]
     },
     "metadata": {},
     "output_type": "display_data"
    },
    {
     "data": {
      "text/plain": [
       "<AxesSubplot:title={'center':'Distortion Score Elbow for KMeans Clustering'}, xlabel='k', ylabel='distortion score'>"
      ]
     },
     "execution_count": 30,
     "metadata": {},
     "output_type": "execute_result"
    }
   ],
   "source": [
    "kmeans = KMeans()\n",
    "elbow = KElbowVisualizer(kmeans, k=(2, 20))\n",
    "elbow.fit(df_final)\n",
    "elbow.show()"
   ]
  },
  {
   "cell_type": "code",
   "execution_count": 31,
   "id": "be3afa9b",
   "metadata": {},
   "outputs": [
    {
     "data": {
      "text/plain": [
       "5"
      ]
     },
     "execution_count": 31,
     "metadata": {},
     "output_type": "execute_result"
    }
   ],
   "source": [
    "elbow.elbow_value_"
   ]
  },
  {
   "cell_type": "markdown",
   "id": "72331882",
   "metadata": {},
   "source": [
    "When we use the elbow method, this method advises us to have 5 groups. The number of groups we found was also very close to this. Let's make the group number 5.We had already decided between the numbers 4 and 6. it doesn't bother us to accept the middle."
   ]
  },
  {
   "cell_type": "markdown",
   "id": "3edc9f5f",
   "metadata": {},
   "source": [
    "<a id = \"813\" ></a>\n",
    "# <span style=\"font-family:serif; font-size:28px;\"> 803. Final Cluster </span>\n",
    "<a id = \"datavisualization\" ></a>"
   ]
  },
  {
   "cell_type": "code",
   "execution_count": 32,
   "id": "bb2cfc76",
   "metadata": {},
   "outputs": [
    {
     "data": {
      "text/plain": [
       "array([[0.90012897, 0.01060008, 0.01156563],\n",
       "       [0.2687886 , 0.01526562, 0.01493464],\n",
       "       [0.47808147, 0.01281397, 0.01392676],\n",
       "       [0.07371368, 0.01859223, 0.01870717],\n",
       "       [0.67603601, 0.0132231 , 0.01317279]])"
      ]
     },
     "execution_count": 32,
     "metadata": {},
     "output_type": "execute_result"
    }
   ],
   "source": [
    "kmeans = KMeans(n_clusters=elbow.elbow_value_).fit(df_final)\n",
    "kmeans.cluster_centers_"
   ]
  },
  {
   "cell_type": "code",
   "execution_count": 33,
   "id": "ff5827fb",
   "metadata": {},
   "outputs": [
    {
     "data": {
      "text/plain": [
       "array([3, 0, 4, ..., 4, 1, 0])"
      ]
     },
     "execution_count": 33,
     "metadata": {},
     "output_type": "execute_result"
    }
   ],
   "source": [
    "clusters_kmeans = kmeans.labels_\n",
    "clusters_kmeans"
   ]
  },
  {
   "cell_type": "code",
   "execution_count": 34,
   "id": "d92af00c",
   "metadata": {},
   "outputs": [
    {
     "data": {
      "text/html": [
       "<div>\n",
       "<style scoped>\n",
       "    .dataframe tbody tr th:only-of-type {\n",
       "        vertical-align: middle;\n",
       "    }\n",
       "\n",
       "    .dataframe tbody tr th {\n",
       "        vertical-align: top;\n",
       "    }\n",
       "\n",
       "    .dataframe thead th {\n",
       "        text-align: right;\n",
       "    }\n",
       "</style>\n",
       "<table border=\"1\" class=\"dataframe\">\n",
       "  <thead>\n",
       "    <tr style=\"text-align: right;\">\n",
       "      <th></th>\n",
       "      <th>recency</th>\n",
       "      <th>frequency</th>\n",
       "      <th>monetary</th>\n",
       "      <th>cluster</th>\n",
       "    </tr>\n",
       "    <tr>\n",
       "      <th>master_id</th>\n",
       "      <th></th>\n",
       "      <th></th>\n",
       "      <th></th>\n",
       "      <th></th>\n",
       "    </tr>\n",
       "  </thead>\n",
       "  <tbody>\n",
       "    <tr>\n",
       "      <th>00016786-2f5a-11ea-bb80-000d3a38a36f</th>\n",
       "      <td>8</td>\n",
       "      <td>5.0</td>\n",
       "      <td>776.07</td>\n",
       "      <td>3</td>\n",
       "    </tr>\n",
       "    <tr>\n",
       "      <th>00034aaa-a838-11e9-a2fc-000d3a38a36f</th>\n",
       "      <td>296</td>\n",
       "      <td>3.0</td>\n",
       "      <td>269.47</td>\n",
       "      <td>0</td>\n",
       "    </tr>\n",
       "    <tr>\n",
       "      <th>000be838-85df-11ea-a90b-000d3a38a36f</th>\n",
       "      <td>211</td>\n",
       "      <td>4.0</td>\n",
       "      <td>722.69</td>\n",
       "      <td>4</td>\n",
       "    </tr>\n",
       "    <tr>\n",
       "      <th>000c1fe2-a8b7-11ea-8479-000d3a38a36f</th>\n",
       "      <td>25</td>\n",
       "      <td>7.0</td>\n",
       "      <td>874.16</td>\n",
       "      <td>3</td>\n",
       "    </tr>\n",
       "    <tr>\n",
       "      <th>000f5e3e-9dde-11ea-80cd-000d3a38a36f</th>\n",
       "      <td>18</td>\n",
       "      <td>7.0</td>\n",
       "      <td>1620.33</td>\n",
       "      <td>3</td>\n",
       "    </tr>\n",
       "  </tbody>\n",
       "</table>\n",
       "</div>"
      ],
      "text/plain": [
       "                                      recency  frequency  monetary  cluster\n",
       "master_id                                                                  \n",
       "00016786-2f5a-11ea-bb80-000d3a38a36f        8        5.0    776.07        3\n",
       "00034aaa-a838-11e9-a2fc-000d3a38a36f      296        3.0    269.47        0\n",
       "000be838-85df-11ea-a90b-000d3a38a36f      211        4.0    722.69        4\n",
       "000c1fe2-a8b7-11ea-8479-000d3a38a36f       25        7.0    874.16        3\n",
       "000f5e3e-9dde-11ea-80cd-000d3a38a36f       18        7.0   1620.33        3"
      ]
     },
     "execution_count": 34,
     "metadata": {},
     "output_type": "execute_result"
    }
   ],
   "source": [
    "df_final_[\"cluster\"] = clusters_kmeans\n",
    "df_final_.head()"
   ]
  },
  {
   "cell_type": "markdown",
   "id": "617a8f41",
   "metadata": {},
   "source": [
    "<a id = \"814\" ></a>\n",
    "# <span style=\"font-family:serif; font-size:28px;\"> 804. Results </span>\n",
    "<a id = \"datavisualization\" ></a>"
   ]
  },
  {
   "cell_type": "code",
   "execution_count": 35,
   "id": "8a066216",
   "metadata": {},
   "outputs": [
    {
     "data": {
      "text/html": [
       "<div>\n",
       "<style scoped>\n",
       "    .dataframe tbody tr th:only-of-type {\n",
       "        vertical-align: middle;\n",
       "    }\n",
       "\n",
       "    .dataframe tbody tr th {\n",
       "        vertical-align: top;\n",
       "    }\n",
       "\n",
       "    .dataframe thead th {\n",
       "        text-align: right;\n",
       "    }\n",
       "</style>\n",
       "<table border=\"1\" class=\"dataframe\">\n",
       "  <thead>\n",
       "    <tr style=\"text-align: right;\">\n",
       "      <th></th>\n",
       "      <th>Count</th>\n",
       "      <th>recency</th>\n",
       "      <th>frequency</th>\n",
       "      <th>monetary</th>\n",
       "    </tr>\n",
       "    <tr>\n",
       "      <th>cluster</th>\n",
       "      <th></th>\n",
       "      <th></th>\n",
       "      <th></th>\n",
       "      <th></th>\n",
       "    </tr>\n",
       "  </thead>\n",
       "  <tbody>\n",
       "    <tr>\n",
       "      <th>0</th>\n",
       "      <td>2358</td>\n",
       "      <td>328.547074</td>\n",
       "      <td>4.120017</td>\n",
       "      <td>575.381158</td>\n",
       "    </tr>\n",
       "    <tr>\n",
       "      <th>1</th>\n",
       "      <td>5060</td>\n",
       "      <td>98.508498</td>\n",
       "      <td>5.038142</td>\n",
       "      <td>727.992012</td>\n",
       "    </tr>\n",
       "    <tr>\n",
       "      <th>2</th>\n",
       "      <td>3778</td>\n",
       "      <td>174.948121</td>\n",
       "      <td>4.582054</td>\n",
       "      <td>686.463618</td>\n",
       "    </tr>\n",
       "    <tr>\n",
       "      <th>3</th>\n",
       "      <td>6602</td>\n",
       "      <td>26.958800</td>\n",
       "      <td>5.714632</td>\n",
       "      <td>902.170865</td>\n",
       "    </tr>\n",
       "    <tr>\n",
       "      <th>4</th>\n",
       "      <td>2147</td>\n",
       "      <td>246.753144</td>\n",
       "      <td>4.644620</td>\n",
       "      <td>649.085869</td>\n",
       "    </tr>\n",
       "  </tbody>\n",
       "</table>\n",
       "</div>"
      ],
      "text/plain": [
       "         Count     recency  frequency    monetary\n",
       "cluster                                          \n",
       "0         2358  328.547074   4.120017  575.381158\n",
       "1         5060   98.508498   5.038142  727.992012\n",
       "2         3778  174.948121   4.582054  686.463618\n",
       "3         6602   26.958800   5.714632  902.170865\n",
       "4         2147  246.753144   4.644620  649.085869"
      ]
     },
     "execution_count": 35,
     "metadata": {},
     "output_type": "execute_result"
    }
   ],
   "source": [
    "dfzz=df_final_.groupby(\"cluster\").agg({\"recency\":[\"count\",\"mean\"],\n",
    "                                 \"frequency\":[\"mean\"],\n",
    "                                 \"monetary\":[\"mean\"]})\n",
    "dfzz.columns=[\"Count\"]+list(df_final_.columns[:-1])\n",
    "dfzz"
   ]
  },
  {
   "cell_type": "code",
   "execution_count": 36,
   "id": "3a011222",
   "metadata": {},
   "outputs": [],
   "source": [
    "for col in dfzz.columns:\n",
    "    dfzz[col]/=dfzz[col].max()\n",
    "dfzz=(dfzz.round(2)*100).astype(int)"
   ]
  },
  {
   "cell_type": "markdown",
   "id": "c9e7a366",
   "metadata": {},
   "source": [
    "Let's examine the groups according to their values"
   ]
  },
  {
   "cell_type": "markdown",
   "id": "88d69004",
   "metadata": {},
   "source": [
    "<a id = \"815\" ></a>\n",
    "# <span style=\"font-family:serif; font-size:28px;\"> 805. Results Visualization </span>\n",
    "<a id = \"datavisualization\" ></a>"
   ]
  },
  {
   "cell_type": "code",
   "execution_count": 37,
   "id": "910dc135",
   "metadata": {},
   "outputs": [
    {
     "data": {
      "text/plain": [
       "<AxesSubplot:ylabel='cluster'>"
      ]
     },
     "execution_count": 37,
     "metadata": {},
     "output_type": "execute_result"
    },
    {
     "data": {
      "image/png": "[encoded data removed]",
      "text/plain": [
       "<Figure size 648x432 with 2 Axes>"
      ]
     },
     "metadata": {},
     "output_type": "display_data"
    }
   ],
   "source": [
    "f, ax = plt.subplots(figsize=(9, 6))\n",
    "sns.heatmap(dfzz[dfzz.columns[1:]], annot=True, fmt=\"d\", linewidths=.5, ax=ax)"
   ]
  },
  {
   "cell_type": "markdown",
   "id": "e75c83fe",
   "metadata": {},
   "source": [
    "All groups differ from each other due to some characteristics.\n",
    "\n",
    "Great result 👍"
   ]
  },
  {
   "cell_type": "markdown",
   "id": "2e627da1",
   "metadata": {},
   "source": [
    "<a id = \"90\" ></a>\n",
    "# <span style=\"font-family:serif; font-size:28px;\"> 90. Task 2 </span>\n",
    "<a id = \"datavisualization\" ></a>"
   ]
  },
  {
   "cell_type": "markdown",
   "id": "0a73550d",
   "metadata": {},
   "source": [
    "* Task 2: Customers will be grouped according to their \"interested_in_categories_12\" values.\n"
   ]
  },
  {
   "cell_type": "markdown",
   "id": "9c699703",
   "metadata": {},
   "source": [
    "<img src=\"https://blog.intercomassets.com/blog/wp-content/uploads/2020/10/Customer-segmentation-performance-matrix.png\" width=\"600\">"
   ]
  },
  {
   "cell_type": "code",
   "execution_count": 38,
   "id": "2c6732c5",
   "metadata": {
    "scrolled": true
   },
   "outputs": [
    {
     "data": {
      "text/html": [
       "<div>\n",
       "<style scoped>\n",
       "    .dataframe tbody tr th:only-of-type {\n",
       "        vertical-align: middle;\n",
       "    }\n",
       "\n",
       "    .dataframe tbody tr th {\n",
       "        vertical-align: top;\n",
       "    }\n",
       "\n",
       "    .dataframe thead th {\n",
       "        text-align: right;\n",
       "    }\n",
       "</style>\n",
       "<table border=\"1\" class=\"dataframe\">\n",
       "  <thead>\n",
       "    <tr style=\"text-align: right;\">\n",
       "      <th></th>\n",
       "      <th>last_order_date</th>\n",
       "      <th>order_num_total</th>\n",
       "      <th>customer_value_total</th>\n",
       "      <th>UNSPECIFIED</th>\n",
       "      <th>AKTIFSPOR</th>\n",
       "      <th>AKTIFCOCUK</th>\n",
       "      <th>COCUK</th>\n",
       "      <th>KADIN</th>\n",
       "      <th>ERKEK</th>\n",
       "    </tr>\n",
       "    <tr>\n",
       "      <th>master_id</th>\n",
       "      <th></th>\n",
       "      <th></th>\n",
       "      <th></th>\n",
       "      <th></th>\n",
       "      <th></th>\n",
       "      <th></th>\n",
       "      <th></th>\n",
       "      <th></th>\n",
       "      <th></th>\n",
       "    </tr>\n",
       "  </thead>\n",
       "  <tbody>\n",
       "    <tr>\n",
       "      <th>00016786-2f5a-11ea-bb80-000d3a38a36f</th>\n",
       "      <td>8</td>\n",
       "      <td>5.0</td>\n",
       "      <td>776.07</td>\n",
       "      <td>0</td>\n",
       "      <td>1</td>\n",
       "      <td>0</td>\n",
       "      <td>1</td>\n",
       "      <td>0</td>\n",
       "      <td>1</td>\n",
       "    </tr>\n",
       "    <tr>\n",
       "      <th>00034aaa-a838-11e9-a2fc-000d3a38a36f</th>\n",
       "      <td>296</td>\n",
       "      <td>3.0</td>\n",
       "      <td>269.47</td>\n",
       "      <td>0</td>\n",
       "      <td>0</td>\n",
       "      <td>0</td>\n",
       "      <td>0</td>\n",
       "      <td>1</td>\n",
       "      <td>1</td>\n",
       "    </tr>\n",
       "    <tr>\n",
       "      <th>000be838-85df-11ea-a90b-000d3a38a36f</th>\n",
       "      <td>211</td>\n",
       "      <td>4.0</td>\n",
       "      <td>722.69</td>\n",
       "      <td>0</td>\n",
       "      <td>1</td>\n",
       "      <td>1</td>\n",
       "      <td>1</td>\n",
       "      <td>0</td>\n",
       "      <td>0</td>\n",
       "    </tr>\n",
       "  </tbody>\n",
       "</table>\n",
       "</div>"
      ],
      "text/plain": [
       "                                      last_order_date  order_num_total  \\\n",
       "master_id                                                                \n",
       "00016786-2f5a-11ea-bb80-000d3a38a36f                8              5.0   \n",
       "00034aaa-a838-11e9-a2fc-000d3a38a36f              296              3.0   \n",
       "000be838-85df-11ea-a90b-000d3a38a36f              211              4.0   \n",
       "\n",
       "                                      customer_value_total  UNSPECIFIED  \\\n",
       "master_id                                                                 \n",
       "00016786-2f5a-11ea-bb80-000d3a38a36f                776.07            0   \n",
       "00034aaa-a838-11e9-a2fc-000d3a38a36f                269.47            0   \n",
       "000be838-85df-11ea-a90b-000d3a38a36f                722.69            0   \n",
       "\n",
       "                                      AKTIFSPOR  AKTIFCOCUK  COCUK  KADIN  \\\n",
       "master_id                                                                   \n",
       "00016786-2f5a-11ea-bb80-000d3a38a36f          1           0      1      0   \n",
       "00034aaa-a838-11e9-a2fc-000d3a38a36f          0           0      0      1   \n",
       "000be838-85df-11ea-a90b-000d3a38a36f          1           1      1      0   \n",
       "\n",
       "                                      ERKEK  \n",
       "master_id                                    \n",
       "00016786-2f5a-11ea-bb80-000d3a38a36f      1  \n",
       "00034aaa-a838-11e9-a2fc-000d3a38a36f      1  \n",
       "000be838-85df-11ea-a90b-000d3a38a36f      0  "
      ]
     },
     "execution_count": 38,
     "metadata": {},
     "output_type": "execute_result"
    }
   ],
   "source": [
    "dfx.head(3)"
   ]
  },
  {
   "cell_type": "code",
   "execution_count": 39,
   "id": "afb287eb",
   "metadata": {},
   "outputs": [
    {
     "data": {
      "text/html": [
       "<div>\n",
       "<style scoped>\n",
       "    .dataframe tbody tr th:only-of-type {\n",
       "        vertical-align: middle;\n",
       "    }\n",
       "\n",
       "    .dataframe tbody tr th {\n",
       "        vertical-align: top;\n",
       "    }\n",
       "\n",
       "    .dataframe thead th {\n",
       "        text-align: right;\n",
       "    }\n",
       "</style>\n",
       "<table border=\"1\" class=\"dataframe\">\n",
       "  <thead>\n",
       "    <tr style=\"text-align: right;\">\n",
       "      <th></th>\n",
       "      <th>UNSPECIFIED</th>\n",
       "      <th>ERKEK</th>\n",
       "      <th>AKTIFCOCUK</th>\n",
       "      <th>AKTIFSPOR</th>\n",
       "      <th>KADIN</th>\n",
       "      <th>COCUK</th>\n",
       "    </tr>\n",
       "    <tr>\n",
       "      <th>master_id</th>\n",
       "      <th></th>\n",
       "      <th></th>\n",
       "      <th></th>\n",
       "      <th></th>\n",
       "      <th></th>\n",
       "      <th></th>\n",
       "    </tr>\n",
       "  </thead>\n",
       "  <tbody>\n",
       "    <tr>\n",
       "      <th>00016786-2f5a-11ea-bb80-000d3a38a36f</th>\n",
       "      <td>0</td>\n",
       "      <td>1</td>\n",
       "      <td>0</td>\n",
       "      <td>1</td>\n",
       "      <td>0</td>\n",
       "      <td>1</td>\n",
       "    </tr>\n",
       "    <tr>\n",
       "      <th>00034aaa-a838-11e9-a2fc-000d3a38a36f</th>\n",
       "      <td>0</td>\n",
       "      <td>1</td>\n",
       "      <td>0</td>\n",
       "      <td>0</td>\n",
       "      <td>1</td>\n",
       "      <td>0</td>\n",
       "    </tr>\n",
       "    <tr>\n",
       "      <th>000be838-85df-11ea-a90b-000d3a38a36f</th>\n",
       "      <td>0</td>\n",
       "      <td>0</td>\n",
       "      <td>1</td>\n",
       "      <td>1</td>\n",
       "      <td>0</td>\n",
       "      <td>1</td>\n",
       "    </tr>\n",
       "  </tbody>\n",
       "</table>\n",
       "</div>"
      ],
      "text/plain": [
       "                                      UNSPECIFIED  ERKEK  AKTIFCOCUK  \\\n",
       "master_id                                                              \n",
       "00016786-2f5a-11ea-bb80-000d3a38a36f            0      1           0   \n",
       "00034aaa-a838-11e9-a2fc-000d3a38a36f            0      1           0   \n",
       "000be838-85df-11ea-a90b-000d3a38a36f            0      0           1   \n",
       "\n",
       "                                      AKTIFSPOR  KADIN  COCUK  \n",
       "master_id                                                      \n",
       "00016786-2f5a-11ea-bb80-000d3a38a36f          1      0      1  \n",
       "00034aaa-a838-11e9-a2fc-000d3a38a36f          0      1      0  \n",
       "000be838-85df-11ea-a90b-000d3a38a36f          1      0      1  "
      ]
     },
     "execution_count": 39,
     "metadata": {},
     "output_type": "execute_result"
    }
   ],
   "source": [
    "df_final_=dfx[[\"UNSPECIFIED\",\"ERKEK\",\"AKTIFCOCUK\",\"AKTIFSPOR\",\"KADIN\",\"COCUK\"]]\n",
    "df_final_.head(3)"
   ]
  },
  {
   "cell_type": "code",
   "execution_count": 40,
   "id": "c8f35f2b",
   "metadata": {},
   "outputs": [
    {
     "data": {
      "text/plain": [
       "array([[0., 1., 0., 1., 0., 1.],\n",
       "       [0., 1., 0., 0., 1., 0.],\n",
       "       [0., 0., 1., 1., 0., 1.],\n",
       "       [0., 1., 1., 1., 1., 1.],\n",
       "       [0., 1., 0., 1., 0., 0.]])"
      ]
     },
     "execution_count": 40,
     "metadata": {},
     "output_type": "execute_result"
    }
   ],
   "source": [
    "sc = MinMaxScaler((0, 1)) # it's important to standardize on distance-based models\n",
    "df_final = sc.fit_transform(df_final_)\n",
    "df_final[0:5]"
   ]
  },
  {
   "cell_type": "markdown",
   "id": "1167cac7",
   "metadata": {},
   "source": [
    "<a id = \"901\" ></a>\n",
    "# <span style=\"font-family:serif; font-size:28px;\"> 901. Determining the Optimum Number of Clusters </span>\n",
    "<a id = \"datavisualization\" ></a>"
   ]
  },
  {
   "cell_type": "code",
   "execution_count": 41,
   "id": "674b9596",
   "metadata": {},
   "outputs": [
    {
     "data": {
      "image/png": "[encoded data removed]",
      "text/plain": [
       "<Figure size 576x396 with 1 Axes>"
      ]
     },
     "metadata": {},
     "output_type": "display_data"
    }
   ],
   "source": [
    "################################\n",
    "# Determining the Optimum Number of Clusters\n",
    "################################\n",
    "\n",
    "kmeans = KMeans()\n",
    "ssd = []\n",
    "K = range(1, 30)\n",
    "\n",
    "for k in K:\n",
    "    kmeans = KMeans(n_clusters=k).fit(df_final)\n",
    "    ssd.append(kmeans.inertia_)\n",
    "\n",
    "plt.plot(K, ssd, \"bx-\")\n",
    "plt.xlabel(\"Farklı K Değerlerine Karşılık SSE/SSR/SSD\")\n",
    "plt.title(\"Optimum Küme sayısı için Elbow Yöntemi\")\n",
    "plt.show()"
   ]
  },
  {
   "cell_type": "markdown",
   "id": "29ff58af",
   "metadata": {},
   "source": [
    "<a id = \"902\" ></a>\n",
    "# <span style=\"font-family:serif; font-size:28px;\"> 902. Elbow method </span>\n",
    "<a id = \"datavisualization\" ></a>"
   ]
  },
  {
   "cell_type": "code",
   "execution_count": 42,
   "id": "00b92064",
   "metadata": {},
   "outputs": [
    {
     "data": {
      "image/png": "[encoded data removed]",
      "text/plain": [
       "<Figure size 576x396 with 2 Axes>"
      ]
     },
     "metadata": {},
     "output_type": "display_data"
    },
    {
     "data": {
      "text/plain": [
       "<AxesSubplot:title={'center':'Distortion Score Elbow for KMeans Clustering'}, xlabel='k', ylabel='distortion score'>"
      ]
     },
     "execution_count": 42,
     "metadata": {},
     "output_type": "execute_result"
    }
   ],
   "source": [
    "kmeans = KMeans()\n",
    "elbow = KElbowVisualizer(kmeans, k=(2, 24))\n",
    "elbow.fit(df_final)\n",
    "elbow.show()"
   ]
  },
  {
   "cell_type": "code",
   "execution_count": 43,
   "id": "8342e724",
   "metadata": {},
   "outputs": [
    {
     "data": {
      "text/plain": [
       "8"
      ]
     },
     "execution_count": 43,
     "metadata": {},
     "output_type": "execute_result"
    }
   ],
   "source": [
    "elbow.elbow_value_"
   ]
  },
  {
   "cell_type": "markdown",
   "id": "1e1848f7",
   "metadata": {},
   "source": [
    "The elbow method recommends that the number of groups be 9."
   ]
  },
  {
   "cell_type": "markdown",
   "id": "af2cc5b0",
   "metadata": {},
   "source": [
    "<a id = \"903\" ></a>\n",
    "# <span style=\"font-family:serif; font-size:28px;\"> 903. Final Cluster </span>\n",
    "<a id = \"datavisualization\" ></a>"
   ]
  },
  {
   "cell_type": "code",
   "execution_count": 44,
   "id": "01aad6d9",
   "metadata": {},
   "outputs": [
    {
     "data": {
      "text/plain": [
       "array([[-3.88578059e-16,  2.87982480e-01, -4.16333634e-16,\n",
       "         1.83186799e-15,  1.00000000e+00,  1.77114700e-01],\n",
       "       [-4.57966998e-16, -1.27675648e-15, -4.71844785e-16,\n",
       "         1.00000000e+00,  1.05471187e-15,  8.38402539e-02],\n",
       "       [-1.94289029e-16,  8.89610390e-02,  7.28571429e-01,\n",
       "         1.68506494e-01,  1.37337662e-01,  1.00000000e+00]])"
      ]
     },
     "execution_count": 44,
     "metadata": {},
     "output_type": "execute_result"
    }
   ],
   "source": [
    "kmeans = KMeans(n_clusters=elbow.elbow_value_).fit(df_final)\n",
    "kmeans.cluster_centers_[:3]"
   ]
  },
  {
   "cell_type": "code",
   "execution_count": 45,
   "id": "db81987f",
   "metadata": {},
   "outputs": [
    {
     "data": {
      "text/plain": [
       "array([7, 0, 2, ..., 4, 5, 0])"
      ]
     },
     "execution_count": 45,
     "metadata": {},
     "output_type": "execute_result"
    }
   ],
   "source": [
    "clusters_kmeans = kmeans.labels_\n",
    "clusters_kmeans"
   ]
  },
  {
   "cell_type": "code",
   "execution_count": 46,
   "id": "21adcb3d",
   "metadata": {},
   "outputs": [
    {
     "data": {
      "text/html": [
       "<div>\n",
       "<style scoped>\n",
       "    .dataframe tbody tr th:only-of-type {\n",
       "        vertical-align: middle;\n",
       "    }\n",
       "\n",
       "    .dataframe tbody tr th {\n",
       "        vertical-align: top;\n",
       "    }\n",
       "\n",
       "    .dataframe thead th {\n",
       "        text-align: right;\n",
       "    }\n",
       "</style>\n",
       "<table border=\"1\" class=\"dataframe\">\n",
       "  <thead>\n",
       "    <tr style=\"text-align: right;\">\n",
       "      <th></th>\n",
       "      <th>UNSPECIFIED</th>\n",
       "      <th>ERKEK</th>\n",
       "      <th>AKTIFCOCUK</th>\n",
       "      <th>AKTIFSPOR</th>\n",
       "      <th>KADIN</th>\n",
       "      <th>COCUK</th>\n",
       "      <th>cluster</th>\n",
       "    </tr>\n",
       "    <tr>\n",
       "      <th>master_id</th>\n",
       "      <th></th>\n",
       "      <th></th>\n",
       "      <th></th>\n",
       "      <th></th>\n",
       "      <th></th>\n",
       "      <th></th>\n",
       "      <th></th>\n",
       "    </tr>\n",
       "  </thead>\n",
       "  <tbody>\n",
       "    <tr>\n",
       "      <th>00016786-2f5a-11ea-bb80-000d3a38a36f</th>\n",
       "      <td>0</td>\n",
       "      <td>1</td>\n",
       "      <td>0</td>\n",
       "      <td>1</td>\n",
       "      <td>0</td>\n",
       "      <td>1</td>\n",
       "      <td>7</td>\n",
       "    </tr>\n",
       "    <tr>\n",
       "      <th>00034aaa-a838-11e9-a2fc-000d3a38a36f</th>\n",
       "      <td>0</td>\n",
       "      <td>1</td>\n",
       "      <td>0</td>\n",
       "      <td>0</td>\n",
       "      <td>1</td>\n",
       "      <td>0</td>\n",
       "      <td>0</td>\n",
       "    </tr>\n",
       "    <tr>\n",
       "      <th>000be838-85df-11ea-a90b-000d3a38a36f</th>\n",
       "      <td>0</td>\n",
       "      <td>0</td>\n",
       "      <td>1</td>\n",
       "      <td>1</td>\n",
       "      <td>0</td>\n",
       "      <td>1</td>\n",
       "      <td>2</td>\n",
       "    </tr>\n",
       "    <tr>\n",
       "      <th>000c1fe2-a8b7-11ea-8479-000d3a38a36f</th>\n",
       "      <td>0</td>\n",
       "      <td>1</td>\n",
       "      <td>1</td>\n",
       "      <td>1</td>\n",
       "      <td>1</td>\n",
       "      <td>1</td>\n",
       "      <td>6</td>\n",
       "    </tr>\n",
       "    <tr>\n",
       "      <th>000f5e3e-9dde-11ea-80cd-000d3a38a36f</th>\n",
       "      <td>0</td>\n",
       "      <td>1</td>\n",
       "      <td>0</td>\n",
       "      <td>1</td>\n",
       "      <td>0</td>\n",
       "      <td>0</td>\n",
       "      <td>7</td>\n",
       "    </tr>\n",
       "  </tbody>\n",
       "</table>\n",
       "</div>"
      ],
      "text/plain": [
       "                                      UNSPECIFIED  ERKEK  AKTIFCOCUK  \\\n",
       "master_id                                                              \n",
       "00016786-2f5a-11ea-bb80-000d3a38a36f            0      1           0   \n",
       "00034aaa-a838-11e9-a2fc-000d3a38a36f            0      1           0   \n",
       "000be838-85df-11ea-a90b-000d3a38a36f            0      0           1   \n",
       "000c1fe2-a8b7-11ea-8479-000d3a38a36f            0      1           1   \n",
       "000f5e3e-9dde-11ea-80cd-000d3a38a36f            0      1           0   \n",
       "\n",
       "                                      AKTIFSPOR  KADIN  COCUK  cluster  \n",
       "master_id                                                               \n",
       "00016786-2f5a-11ea-bb80-000d3a38a36f          1      0      1        7  \n",
       "00034aaa-a838-11e9-a2fc-000d3a38a36f          0      1      0        0  \n",
       "000be838-85df-11ea-a90b-000d3a38a36f          1      0      1        2  \n",
       "000c1fe2-a8b7-11ea-8479-000d3a38a36f          1      1      1        6  \n",
       "000f5e3e-9dde-11ea-80cd-000d3a38a36f          1      0      0        7  "
      ]
     },
     "execution_count": 46,
     "metadata": {},
     "output_type": "execute_result"
    }
   ],
   "source": [
    "df_final_[\"cluster\"] = clusters_kmeans\n",
    "df_final_.head()"
   ]
  },
  {
   "cell_type": "markdown",
   "id": "cb9b9f1d",
   "metadata": {},
   "source": [
    "<a id = \"904\" ></a>\n",
    "# <span style=\"font-family:serif; font-size:28px;\"> 904. Results </span>\n",
    "<a id = \"datavisualization\" ></a>"
   ]
  },
  {
   "cell_type": "code",
   "execution_count": 47,
   "id": "ad2117ae",
   "metadata": {},
   "outputs": [
    {
     "data": {
      "text/html": [
       "<div>\n",
       "<style scoped>\n",
       "    .dataframe tbody tr th:only-of-type {\n",
       "        vertical-align: middle;\n",
       "    }\n",
       "\n",
       "    .dataframe tbody tr th {\n",
       "        vertical-align: top;\n",
       "    }\n",
       "\n",
       "    .dataframe thead th {\n",
       "        text-align: right;\n",
       "    }\n",
       "</style>\n",
       "<table border=\"1\" class=\"dataframe\">\n",
       "  <thead>\n",
       "    <tr style=\"text-align: right;\">\n",
       "      <th></th>\n",
       "      <th>Count</th>\n",
       "      <th>UNSPECIFIED</th>\n",
       "      <th>ERKEK</th>\n",
       "      <th>AKTIFCOCUK</th>\n",
       "      <th>AKTIFSPOR</th>\n",
       "      <th>KADIN</th>\n",
       "      <th>COCUK</th>\n",
       "    </tr>\n",
       "    <tr>\n",
       "      <th>cluster</th>\n",
       "      <th></th>\n",
       "      <th></th>\n",
       "      <th></th>\n",
       "      <th></th>\n",
       "      <th></th>\n",
       "      <th></th>\n",
       "      <th></th>\n",
       "    </tr>\n",
       "  </thead>\n",
       "  <tbody>\n",
       "    <tr>\n",
       "      <th>0</th>\n",
       "      <td>3653</td>\n",
       "      <td>0.0</td>\n",
       "      <td>0.287982</td>\n",
       "      <td>0.000000</td>\n",
       "      <td>0.000000</td>\n",
       "      <td>1.000000</td>\n",
       "      <td>0.177115</td>\n",
       "    </tr>\n",
       "    <tr>\n",
       "      <th>1</th>\n",
       "      <td>3781</td>\n",
       "      <td>0.0</td>\n",
       "      <td>0.000000</td>\n",
       "      <td>0.000000</td>\n",
       "      <td>1.000000</td>\n",
       "      <td>0.000000</td>\n",
       "      <td>0.083840</td>\n",
       "    </tr>\n",
       "    <tr>\n",
       "      <th>2</th>\n",
       "      <td>3080</td>\n",
       "      <td>0.0</td>\n",
       "      <td>0.088961</td>\n",
       "      <td>0.728571</td>\n",
       "      <td>0.168506</td>\n",
       "      <td>0.137338</td>\n",
       "      <td>1.000000</td>\n",
       "    </tr>\n",
       "    <tr>\n",
       "      <th>3</th>\n",
       "      <td>2135</td>\n",
       "      <td>1.0</td>\n",
       "      <td>0.000000</td>\n",
       "      <td>0.000000</td>\n",
       "      <td>0.000000</td>\n",
       "      <td>0.000000</td>\n",
       "      <td>0.000000</td>\n",
       "    </tr>\n",
       "    <tr>\n",
       "      <th>4</th>\n",
       "      <td>2188</td>\n",
       "      <td>0.0</td>\n",
       "      <td>1.000000</td>\n",
       "      <td>0.000000</td>\n",
       "      <td>0.000000</td>\n",
       "      <td>0.000000</td>\n",
       "      <td>0.098263</td>\n",
       "    </tr>\n",
       "    <tr>\n",
       "      <th>5</th>\n",
       "      <td>2368</td>\n",
       "      <td>0.0</td>\n",
       "      <td>0.327280</td>\n",
       "      <td>0.000000</td>\n",
       "      <td>1.000000</td>\n",
       "      <td>1.000000</td>\n",
       "      <td>0.101774</td>\n",
       "    </tr>\n",
       "    <tr>\n",
       "      <th>6</th>\n",
       "      <td>1406</td>\n",
       "      <td>0.0</td>\n",
       "      <td>0.724751</td>\n",
       "      <td>0.848506</td>\n",
       "      <td>0.854908</td>\n",
       "      <td>0.824324</td>\n",
       "      <td>1.000000</td>\n",
       "    </tr>\n",
       "    <tr>\n",
       "      <th>7</th>\n",
       "      <td>1334</td>\n",
       "      <td>0.0</td>\n",
       "      <td>1.000000</td>\n",
       "      <td>0.000000</td>\n",
       "      <td>1.000000</td>\n",
       "      <td>0.000000</td>\n",
       "      <td>0.116942</td>\n",
       "    </tr>\n",
       "  </tbody>\n",
       "</table>\n",
       "</div>"
      ],
      "text/plain": [
       "         Count  UNSPECIFIED     ERKEK  AKTIFCOCUK  AKTIFSPOR     KADIN  \\\n",
       "cluster                                                                  \n",
       "0         3653          0.0  0.287982    0.000000   0.000000  1.000000   \n",
       "1         3781          0.0  0.000000    0.000000   1.000000  0.000000   \n",
       "2         3080          0.0  0.088961    0.728571   0.168506  0.137338   \n",
       "3         2135          1.0  0.000000    0.000000   0.000000  0.000000   \n",
       "4         2188          0.0  1.000000    0.000000   0.000000  0.000000   \n",
       "5         2368          0.0  0.327280    0.000000   1.000000  1.000000   \n",
       "6         1406          0.0  0.724751    0.848506   0.854908  0.824324   \n",
       "7         1334          0.0  1.000000    0.000000   1.000000  0.000000   \n",
       "\n",
       "            COCUK  \n",
       "cluster            \n",
       "0        0.177115  \n",
       "1        0.083840  \n",
       "2        1.000000  \n",
       "3        0.000000  \n",
       "4        0.098263  \n",
       "5        0.101774  \n",
       "6        1.000000  \n",
       "7        0.116942  "
      ]
     },
     "execution_count": 47,
     "metadata": {},
     "output_type": "execute_result"
    }
   ],
   "source": [
    "dfzz=df_final_.groupby(\"cluster\").agg({\"UNSPECIFIED\":[\"count\",\"mean\"],\n",
    "                                 \"ERKEK\":[\"mean\"],\n",
    "                                 \"AKTIFCOCUK\":[\"mean\"],\n",
    "                                 \"AKTIFSPOR\":[\"mean\"],\n",
    "                                 \"KADIN\":[\"mean\"],\n",
    "                                 \"COCUK\":[\"mean\"]})\n",
    "dfzz.columns=[\"Count\"]+list(df_final_.columns[:-1])\n",
    "dfzz"
   ]
  },
  {
   "cell_type": "code",
   "execution_count": 48,
   "id": "497395e9",
   "metadata": {},
   "outputs": [],
   "source": [
    "for col in dfzz.columns:\n",
    "    dfzz[col]/=dfzz[col].max()\n",
    "dfzz=(dfzz.round(2)*100).astype(int)"
   ]
  },
  {
   "cell_type": "markdown",
   "id": "006de21c",
   "metadata": {},
   "source": [
    "Let's examine the groups according to their values"
   ]
  },
  {
   "cell_type": "markdown",
   "id": "b1bb61a3",
   "metadata": {},
   "source": [
    "<a id = \"905\" ></a>\n",
    "# <span style=\"font-family:serif; font-size:28px;\"> 905. Results Visualization </span>\n",
    "<a id = \"datavisualization\" ></a>"
   ]
  },
  {
   "cell_type": "code",
   "execution_count": 49,
   "id": "05614cb4",
   "metadata": {},
   "outputs": [
    {
     "data": {
      "text/plain": [
       "<AxesSubplot:ylabel='cluster'>"
      ]
     },
     "execution_count": 49,
     "metadata": {},
     "output_type": "execute_result"
    },
    {
     "data": {
      "image/png": "[encoded data removed]",
      "text/plain": [
       "<Figure size 648x432 with 2 Axes>"
      ]
     },
     "metadata": {},
     "output_type": "display_data"
    }
   ],
   "source": [
    "f, ax = plt.subplots(figsize=(9, 6))\n",
    "sns.heatmap(dfzz[dfzz.columns[1:]], annot=True, fmt=\"d\", linewidths=.5, ax=ax)"
   ]
  },
  {
   "cell_type": "markdown",
   "id": "e1ed592a",
   "metadata": {},
   "source": [
    "All groups differ from each other due to some characteristics.\n",
    "\n",
    "Great result 👍"
   ]
  },
  {
   "cell_type": "markdown",
   "id": "78a14422",
   "metadata": {},
   "source": [
    "<img src=\"https://amessagewithabottle.com/wp-content/uploads/2019/09/moneyball-1024x550.jpg\" width=\"500\">"
   ]
  },
  {
   "cell_type": "markdown",
   "id": "bd919651",
   "metadata": {},
   "source": [
    "I hope all of you did gain some insights to Machine Learning. Some other my notebooks for Machine Learning are: \n",
    "\n",
    "❖  **House Price** Prediction, EDA, ML, Visualization : https://www.kaggle.com/code/mustafayazici/house-price-eda-ml-visualization\n",
    "\n",
    "❖  **Salary** Prediction with ML Models - ⚾Baseball  : https://www.kaggle.com/code/mustafayazici/salary-prediction-with-ml-models-basebal\n",
    "\n",
    "❖ **Customer Churn** Prediction :https://www.kaggle.com/code/mustafayazici/telco-churn-prediction\n",
    "\n",
    "❖ **Customer Churn** Prediction :https://www.kaggle.com/code/mustafayazici/telco-churn-prediction\n",
    "\n",
    "❖ **PCA & Clustering :** https://www.kaggle.com/code/mustafayazici/makine-ogrenmesi-modeli-pca-clustering\n",
    "\n",
    "❖ **User Based** Recommendation : https://www.kaggle.com/code/mustafayazici/user-based-recommendation-system\n",
    "\n",
    "❖ **Content Based** Recommendation : https://www.kaggle.com/code/mustafayazici/content-based-recommendation\n",
    "\n",
    "❖ **ARL** Recommendation : https://www.kaggle.com/code/mustafayazici/association-rule-learning-recommendation-system\n",
    "\n",
    "❖ **My Kaggle** https://www.kaggle.com/mustafayazici/code\n",
    "\n",
    "❖ **My github** https://github.com/Mustafa-YAZICI?tab=repositories"
   ]
  },
  {
   "cell_type": "markdown",
   "id": "6ed3f4e2",
   "metadata": {},
   "source": [
    "<img src=\"https://i.imgflip.com/4of9h0.jpg\" width=\"300\">"
   ]
  },
  {
   "cell_type": "markdown",
   "id": "a19c1d22",
   "metadata": {},
   "source": [
    "Please upvote if you liked the kernel! 😀\n",
    "\n",
    "KEEP KAGGLING!"
   ]
  }
 ],
 "metadata": {
  "kernelspec": {
   "display_name": "Python 3 (ipykernel)",
   "language": "python",
   "name": "python3"
  },
  "language_info": {
   "codemirror_mode": {
    "name": "ipython",
    "version": 3
   },
   "file_extension": ".py",
   "mimetype": "text/x-python",
   "name": "python",
   "nbconvert_exporter": "python",
   "pygments_lexer": "ipython3",
   "version": "3.9.12"
  }
 },
 "nbformat": 4,
 "nbformat_minor": 5
}
